{
 "cells": [
  {
   "cell_type": "code",
   "execution_count": 4,
   "id": "36d4967a-634a-4099-8733-474fa8a6c540",
   "metadata": {
    "editable": true,
    "slideshow": {
     "slide_type": ""
    },
    "tags": []
   },
   "outputs": [
    {
     "name": "stdout",
     "output_type": "stream",
     "text": [
      "The autoreload extension is already loaded. To reload it, use:\n",
      "  %reload_ext autoreload\n"
     ]
    }
   ],
   "source": [
    "%load_ext autoreload\n",
    "%autoreload 2\n",
    "    \n",
    "import time\n",
    "import os\n",
    "import multiprocessing\n",
    "import numpy as np\n",
    "import pandas as pd\n",
    "import csv\n",
    "import matplotlib.pyplot as plt\n",
    "np.set_printoptions(legacy = '1.25')\n",
    "\n",
    "import diem"
   ]
  },
  {
   "cell_type": "markdown",
   "id": "0bca8218-6cd6-4f78-b7a3-45db30106854",
   "metadata": {
    "editable": true,
    "slideshow": {
     "slide_type": ""
    },
    "tags": []
   },
   "source": [
    "# Importing The data and checking out the DiemType class"
   ]
  },
  {
   "cell_type": "markdown",
   "id": "5bd2ce8c-19f2-450b-8f28-339bc05f8364",
   "metadata": {
    "editable": true,
    "slideshow": {
     "slide_type": ""
    },
    "tags": []
   },
   "source": [
    "Here, we are importing the *test* dataset.  This will need to be changed to a final 'toy' dataset of our choice.  Could be this one still.  **to discuss**"
   ]
  },
  {
   "cell_type": "code",
   "execution_count": 5,
   "id": "ebdd5fb8-fb0e-4c79-9355-373095886d5b",
   "metadata": {
    "editable": true,
    "slideshow": {
     "slide_type": ""
    },
    "tags": []
   },
   "outputs": [],
   "source": [
    "dRawInput = diem.diemtype.new_import_raw_test_data()\n"
   ]
  },
  {
   "cell_type": "markdown",
   "id": "48f0bfeb-1eb0-4a85-b093-d94cc50d01d7",
   "metadata": {
    "editable": true,
    "slideshow": {
     "slide_type": ""
    },
    "tags": []
   },
   "source": [
    "Let's have a look inside:"
   ]
  },
  {
   "cell_type": "code",
   "execution_count": 6,
   "id": "f2cc9528-f860-4ebc-83a5-1b762be70fc1",
   "metadata": {
    "editable": true,
    "slideshow": {
     "slide_type": ""
    },
    "tags": []
   },
   "outputs": [
    {
     "data": {
      "text/plain": [
       "{'DMBC': [array([[1, 3, 3, ..., 1, 3, 1],\n",
       "         [1, 1, 3, ..., 1, 3, 1],\n",
       "         [1, 1, 2, ..., 1, 3, 1],\n",
       "         ...,\n",
       "         [3, 1, 1, ..., 3, 1, 3],\n",
       "         [3, 1, 1, ..., 0, 1, 3],\n",
       "         [0, 0, 0, ..., 3, 1, 3]]),\n",
       "  array([[1, 1, 1, ..., 1, 1, 1],\n",
       "         [1, 1, 1, ..., 1, 1, 1],\n",
       "         [1, 1, 1, ..., 1, 1, 1],\n",
       "         ...,\n",
       "         [3, 1, 1, ..., 3, 3, 2],\n",
       "         [3, 3, 1, ..., 3, 3, 1],\n",
       "         [3, 1, 3, ..., 1, 1, 2]])],\n",
       " 'indNames': array(['IP_RVcoll14H960', 'IP_RVcoll14F754', 'IP_RVcoll14E561', 'IP_504',\n",
       "        'IP_502', 'IF_142', 'IP_RVcoll12R048', 'IF_236', 'IF_165',\n",
       "        'IF_234', 'IF_RVcoll14B411', 'IF_RVcoll12N508', 'IF_RVcoll11F366',\n",
       "        'IF_RVcoll17B439'], dtype=object),\n",
       " 'chrPloidies': array([[1, 2, 1, 2, 2, 1, 2, 2, 2, 2, 1, 1, 2, 2],\n",
       "        [2, 2, 2, 2, 2, 2, 2, 2, 2, 2, 2, 2, 2, 2]]),\n",
       " 'chrNames': array(['iphiclides_podalirius.IP_504.v2_0.chromosome_Z',\n",
       "        'iphiclides_podalirius.IP_504.v2_0.chromosome_2'], dtype=object),\n",
       " 'posByChr': [array([      13,       17,       18, ..., 21051786, 21051791, 21051807]),\n",
       "  array([      70,      125,      422, ..., 17990025, 17990125, 17990191])],\n",
       " 'chrLengths': array([21051824, 17990613]),\n",
       " 'MapBC': [array([6.17523688e-07, 8.07530977e-07, 8.55032799e-07, ...,\n",
       "         9.99998195e-01, 9.99998432e-01, 9.99999192e-01]),\n",
       "  array([3.89091800e-06, 6.94806786e-06, 2.34566771e-05, ...,\n",
       "         9.99967316e-01, 9.99972875e-01, 9.99976543e-01])],\n",
       " 'HIs': None,\n",
       " 'initialPolByChr': None,\n",
       " 'PolByChr': None,\n",
       " 'DIByChr': None,\n",
       " 'SupportByChr': None,\n",
       " 'threshold': None,\n",
       " 'smoothScale': None,\n",
       " 'contigMatrix': None,\n",
       " 'siteExclusionsByChr': None,\n",
       " 'indExclusions': None}"
      ]
     },
     "execution_count": 6,
     "metadata": {},
     "output_type": "execute_result"
    }
   ],
   "source": [
    "vars(dRawInput)"
   ]
  },
  {
   "cell_type": "markdown",
   "id": "81eee67e-166e-41d2-af5c-67292cd4dfb5",
   "metadata": {
    "editable": true,
    "slideshow": {
     "slide_type": ""
    },
    "tags": []
   },
   "source": [
    "This class contains all the information about our data at input, and this is used as the starting point for all analyses in `diem`.  Inside, we have a lot of information, including: the chromosome names, their lengths, and the names of individuals.\n",
    "\n",
    "For each Chromosome, we have\n",
    "1. the respective ploidy of each individual in the same order as 'indNames'\n",
    "2. the position of each site and corresponding position with chr length normalized to 1\n",
    "3. The **Diem Matrix** (DMBC means Diem Matrix By Chromosome)\n",
    "\n",
    "The **Diem Matrix** for a chromosome is an array.  Rows are individuals, columns represent sites.  Values are either 0 (for missing data), 1 (homozygous for one allele), 2 (heterozygous), or 3 (homozygous for a different allele).  It is this DMBC list that diem polarizes.\n",
    "\n",
    "Note that on import, there are many attributes with a value *None*.  This is because these attributes relate to polarization and downstream analyses and are updated through the workflow.\n"
   ]
  },
  {
   "cell_type": "markdown",
   "id": "b5f44f2c-d061-48cd-89be-d7566a7a7a8c",
   "metadata": {
    "editable": true,
    "slideshow": {
     "slide_type": ""
    },
    "tags": []
   },
   "source": [
    "We can plot the *painting* of an individual chromosome using the plot_painting function in diem.utils"
   ]
  },
  {
   "cell_type": "code",
   "execution_count": 7,
   "id": "4af56b9d-0f85-4c63-997f-797c03f4fda3",
   "metadata": {
    "editable": true,
    "slideshow": {
     "slide_type": ""
    },
    "tags": []
   },
   "outputs": [
    {
     "data": {
      "image/png": "[encoded data removed]",
      "text/plain": [
       "<Figure size 1600x400 with 1 Axes>"
      ]
     },
     "metadata": {},
     "output_type": "display_data"
    }
   ],
   "source": [
    "diem.utils.plot_painting(dRawInput.DMBC[1])"
   ]
  },
  {
   "cell_type": "markdown",
   "id": "f8f8bf46-932d-478e-abe2-786c606b4490",
   "metadata": {
    "editable": true,
    "slideshow": {
     "slide_type": ""
    },
    "tags": []
   },
   "source": [
    "# Polarizing - the overview"
   ]
  },
  {
   "cell_type": "markdown",
   "id": "01ed3974-c23b-42e5-92bc-244af1d213ef",
   "metadata": {
    "editable": true,
    "slideshow": {
     "slide_type": ""
    },
    "tags": []
   },
   "source": [
    "Here we will look at polarizing the data. Polarization occurs simultaneously across all sites (yes, that means that all chromosomes are polarized at once, NOT individually). \n",
    "\n",
    "Note, however, we can restrict the *information* used for polarizing (all) the data to a subset of individuals or a subset of sites.  We will look at that in more detail in a later section.  \n",
    "\n",
    "For now, we will do a simple polarization using the information across all sites and the default parameters. To do this, we use the polarize() function of the DiemType class.   Note that for illustration, we are setting the optional argument 'boolTestData = True', but for analyzing your own data, this argument should either be omitted or set to 'False'. "
   ]
  },
  {
   "cell_type": "code",
   "execution_count": 8,
   "id": "83091c56-3145-4199-9625-8999a91669d1",
   "metadata": {
    "editable": true,
    "slideshow": {
     "slide_type": ""
    },
    "tags": []
   },
   "outputs": [
    {
     "name": "stdout",
     "output_type": "stream",
     "text": [
      "convert state matrix to Marray\n",
      "initializing test polarity\n",
      "running EM algorithm on a single core using diem_linear\n",
      "starting\n",
      " num individuals in MBC is  14\n",
      "iteration  0   num 0 polarity =  453158   num 1 polarity =  453157\n",
      "time for iteration in seconds:  3.6669652462005615\n",
      "iteration  1   num 0 polarity =  585141   num 1 polarity =  321174\n",
      "time for iteration in seconds:  3.161003589630127\n",
      "iteration  2   num 0 polarity =  628702   num 1 polarity =  277613\n",
      "time for iteration in seconds:  3.2100675106048584\n",
      "iteration  3   num 0 polarity =  630008   num 1 polarity =  276307\n",
      "time for iteration in seconds:  3.1413025856018066\n",
      "iteration  4   num 0 polarity =  630170   num 1 polarity =  276145\n",
      "time for iteration in seconds:  3.3793489933013916\n",
      "iteration  5   num 0 polarity =  630196   num 1 polarity =  276119\n",
      "time for iteration in seconds:  3.208670139312744\n",
      "iteration  6   num 0 polarity =  630193   num 1 polarity =  276122\n",
      "polarity found\n",
      "time for iteration in seconds:  3.34915828704834\n",
      "polarity found\n",
      "updating polarizations, DIs, Supports, initialPolarity,and state matrices\n"
     ]
    }
   ],
   "source": [
    "dPolarized = dRawInput.polarize(boolTestData = True) "
   ]
  },
  {
   "cell_type": "markdown",
   "id": "7cf1e44d-3d41-4da5-a2cc-76262bedc2ad",
   "metadata": {
    "editable": true,
    "slideshow": {
     "slide_type": ""
    },
    "tags": []
   },
   "source": [
    "Polarization returns a new instance of the diem class with updated polarity and additional information from the EM algorithm."
   ]
  },
  {
   "cell_type": "code",
   "execution_count": 9,
   "id": "fd864899-6b21-4f2c-b8a9-87a2e5aeb67b",
   "metadata": {
    "editable": true,
    "slideshow": {
     "slide_type": ""
    },
    "tags": []
   },
   "outputs": [
    {
     "data": {
      "text/plain": [
       "{'DMBC': [array([[1, 1, 1, ..., 1, 1, 1],\n",
       "         [1, 3, 1, ..., 1, 1, 1],\n",
       "         [1, 3, 2, ..., 1, 1, 1],\n",
       "         ...,\n",
       "         [3, 3, 3, ..., 3, 3, 3],\n",
       "         [3, 3, 3, ..., 0, 3, 3],\n",
       "         [0, 0, 0, ..., 3, 3, 3]]),\n",
       "  array([[1, 1, 1, ..., 1, 1, 1],\n",
       "         [1, 1, 1, ..., 1, 1, 1],\n",
       "         [1, 1, 1, ..., 1, 1, 1],\n",
       "         ...,\n",
       "         [3, 1, 1, ..., 3, 3, 2],\n",
       "         [3, 3, 1, ..., 3, 3, 1],\n",
       "         [3, 1, 3, ..., 1, 1, 2]])],\n",
       " 'indNames': array(['IP_RVcoll14H960', 'IP_RVcoll14F754', 'IP_RVcoll14E561', 'IP_504',\n",
       "        'IP_502', 'IF_142', 'IP_RVcoll12R048', 'IF_236', 'IF_165',\n",
       "        'IF_234', 'IF_RVcoll14B411', 'IF_RVcoll12N508', 'IF_RVcoll11F366',\n",
       "        'IF_RVcoll17B439'], dtype=object),\n",
       " 'chrPloidies': array([[1, 2, 1, 2, 2, 1, 2, 2, 2, 2, 1, 1, 2, 2],\n",
       "        [2, 2, 2, 2, 2, 2, 2, 2, 2, 2, 2, 2, 2, 2]]),\n",
       " 'chrNames': array(['iphiclides_podalirius.IP_504.v2_0.chromosome_Z',\n",
       "        'iphiclides_podalirius.IP_504.v2_0.chromosome_2'], dtype=object),\n",
       " 'posByChr': [array([      13,       17,       18, ..., 21051786, 21051791, 21051807]),\n",
       "  array([      70,      125,      422, ..., 17990025, 17990125, 17990191])],\n",
       " 'chrLengths': array([21051824, 17990613]),\n",
       " 'MapBC': [array([6.17523688e-07, 8.07530977e-07, 8.55032799e-07, ...,\n",
       "         9.99998195e-01, 9.99998432e-01, 9.99999192e-01]),\n",
       "  array([3.89091800e-06, 6.94806786e-06, 2.34566771e-05, ...,\n",
       "         9.99967316e-01, 9.99972875e-01, 9.99976543e-01])],\n",
       " 'HIs': array([0.10816828, 0.12277935, 0.11187626, 0.11029406, 0.10852343,\n",
       "        0.72459524, 0.09433748, 0.70971861, 0.71091779, 0.69428351,\n",
       "        0.72274987, 0.74711298, 0.73045299, 0.71828345]),\n",
       " 'initialPolByChr': [array([0, 1, 0, ..., 0, 1, 0], dtype=int8),\n",
       "  array([0, 1, 0, ..., 1, 0, 1], dtype=int8)],\n",
       " 'PolByChr': [array([0, 1, 1, ..., 0, 1, 0], dtype=int8),\n",
       "  array([0, 0, 0, ..., 0, 0, 0], dtype=int8)],\n",
       " 'DIByChr': [array([-30.27051934, -48.22854483, -36.64696071, ...,  -6.1489279 ,\n",
       "          -0.30220071,  -0.30220071]),\n",
       "  array([ -0.30220071, -27.96563003, -10.58283236, ..., -21.91826058,\n",
       "         -21.91826058, -32.92382059])],\n",
       " 'SupportByChr': [array([40.15241927, 13.5904795 , 35.06312798, ..., 60.61444207,\n",
       "         64.84770428, 64.84770428]),\n",
       "  array([64.84770428,  9.52084564, 44.28644097, ..., 21.61558453,\n",
       "         21.61558453, 36.5392632 ])],\n",
       " 'threshold': None,\n",
       " 'smoothScale': None,\n",
       " 'contigMatrix': None,\n",
       " 'siteExclusionsByChr': None,\n",
       " 'indExclusions': None}"
      ]
     },
     "execution_count": 9,
     "metadata": {},
     "output_type": "execute_result"
    }
   ],
   "source": [
    "vars(dPolarized)"
   ]
  },
  {
   "cell_type": "markdown",
   "id": "35cc1000-d811-4d4f-b1b4-c50321e53080",
   "metadata": {
    "editable": true,
    "slideshow": {
     "slide_type": ""
    },
    "tags": []
   },
   "source": [
    "We can see that the polarized diemtype now has values assigned to the following attributes:\n",
    "initialPolByChromosome, PolByChr (the output), DIByChr, supportByChr, and HIs (hybrid indices).\n",
    "\n",
    "Let's compare the data before and after polarizing:"
   ]
  },
  {
   "cell_type": "code",
   "execution_count": 10,
   "id": "20775524-ec2a-4f7b-93a3-357247ab2467",
   "metadata": {
    "editable": true,
    "slideshow": {
     "slide_type": ""
    },
    "tags": []
   },
   "outputs": [
    {
     "name": "stdout",
     "output_type": "stream",
     "text": [
      "Now checking list attributes\n",
      "checking DMBC\n",
      "Attribute  DMBC  differs for chromosome  0\n",
      "Attribute  DMBC  differs for chromosome  1\n",
      "checking PolByChr\n",
      "Attribute  PolByChr  differs (one is None, the other is not)\n",
      "checking DIByChr\n",
      "Attribute  DIByChr  differs (one is None, the other is not)\n",
      "checking SupportByChr\n",
      "Attribute  SupportByChr  differs (one is None, the other is not)\n",
      "checking posByChr\n",
      "checking MapBC\n",
      "checking chrPloidies\n",
      "checking initialPolByChr\n",
      "Attribute  initialPolByChr  differs (one is None, the other is not)\n",
      "Now checking non-list attributes\n",
      "Attribute  HIs  differs (one is None, the other is not)\n",
      "Now checking float attributes\n",
      "now checking individual exclusions\n",
      "now checking site exclusions\n",
      "previous attributes failed, so skipping contigMatrix check\n",
      "The following attributes differed:  ['SupportByChr', 'PolByChr', 'HIs', 'initialPolByChr', 'DIByChr', 'DMBC']\n"
     ]
    }
   ],
   "source": [
    "diem.tests.compare_DiemTypes(dRawInput,dPolarized)"
   ]
  },
  {
   "cell_type": "markdown",
   "id": "59a39b7e-3528-43a2-b722-00bea0059488",
   "metadata": {
    "editable": true,
    "slideshow": {
     "slide_type": ""
    },
    "tags": []
   },
   "source": [
    "Indeed, we see that DMBC, SupportsByChr, DIByChr, PolByChr, and HIs all differ between the two. "
   ]
  },
  {
   "cell_type": "markdown",
   "id": "9a1d52ef-5ce0-44fa-a0f7-bbd3b6e86687",
   "metadata": {
    "editable": true,
    "slideshow": {
     "slide_type": ""
    },
    "tags": []
   },
   "source": [
    "This is what the polarized data now looks like:"
   ]
  },
  {
   "cell_type": "code",
   "execution_count": 11,
   "id": "976a5244-b2e0-4348-b7a7-11e07deb0b6d",
   "metadata": {
    "editable": true,
    "slideshow": {
     "slide_type": ""
    },
    "tags": []
   },
   "outputs": [
    {
     "data": {
      "image/png": "[encoded data removed]",
      "text/plain": [
       "<Figure size 1600x400 with 1 Axes>"
      ]
     },
     "metadata": {},
     "output_type": "display_data"
    }
   ],
   "source": [
    "diem.utils.plot_painting(dPolarized.DMBC[1])"
   ]
  },
  {
   "cell_type": "markdown",
   "id": "8c79bd57-9ce4-46d0-8423-945eac1f81eb",
   "metadata": {
    "editable": true,
    "slideshow": {
     "slide_type": ""
    },
    "tags": []
   },
   "source": [
    "To see what the intial *null* polarity looked like, we can recover it using the diemtype.flip_polarity() function, telling it to switch to the initial polarity from the final (current) polarity."
   ]
  },
  {
   "cell_type": "code",
   "execution_count": 12,
   "id": "f27726e2-ecb8-4dd4-a8b5-3251813d1332",
   "metadata": {
    "editable": true,
    "slideshow": {
     "slide_type": ""
    },
    "tags": []
   },
   "outputs": [
    {
     "data": {
      "image/png": "[encoded data removed]",
      "text/plain": [
       "<Figure size 1600x400 with 1 Axes>"
      ]
     },
     "metadata": {},
     "output_type": "display_data"
    }
   ],
   "source": [
    "initDM_idx1 = diem.diemtype.flip_polarity(dPolarized.DMBC[1],newPolarity=dPolarized.initialPolByChr[1],oldPolarity=dPolarized.PolByChr[1])\n",
    "diem.utils.plot_painting(initDM_idx1)"
   ]
  },
  {
   "cell_type": "markdown",
   "id": "8049293a-e2fc-4f7c-a8cd-44d6e7166121",
   "metadata": {
    "editable": true,
    "slideshow": {
     "slide_type": ""
    },
    "tags": []
   },
   "source": [
    "# Calculating the Hybrid Indices and Sorting the Data"
   ]
  },
  {
   "cell_type": "markdown",
   "id": "5ebfec83-cd5e-41b8-b006-87c47f0fdf87",
   "metadata": {
    "editable": true,
    "slideshow": {
     "slide_type": ""
    },
    "tags": []
   },
   "source": [
    "The EM algorithm works to separate out individuals by hybrid index and assign them to either side of a barrier. After Polarizing and before downstream analyses, it is useful to re-sort the data so that individuals are ordered by hybrid index.\n",
    "\n",
    "Note, the sort function **modifies the diemtype instance in place** so for illustration, here we will first copy the polarized data, then sort it.  Individuals will now be sorted by hybrid index, and this new sorting will be reflected for all attributes with an individual-level sorting (for example, the rows of a given diem matrix, e.g DMBC[1])"
   ]
  },
  {
   "cell_type": "code",
   "execution_count": 13,
   "id": "a938a6b9-3b77-4fec-b216-04281bd35735",
   "metadata": {
    "editable": true,
    "slideshow": {
     "slide_type": ""
    },
    "tags": []
   },
   "outputs": [
    {
     "data": {
      "image/png": "[encoded data removed]",
      "text/plain": [
       "<Figure size 500x400 with 1 Axes>"
      ]
     },
     "metadata": {},
     "output_type": "display_data"
    }
   ],
   "source": [
    "plt.figure(figsize=(5,4))\n",
    "plt.plot(dPolarized.HIs,marker='.',)\n",
    "plt.show()"
   ]
  },
  {
   "cell_type": "code",
   "execution_count": 14,
   "id": "73840bd0-66dd-4995-b774-093a6492e279",
   "metadata": {
    "editable": true,
    "slideshow": {
     "slide_type": ""
    },
    "tags": []
   },
   "outputs": [
    {
     "name": "stdout",
     "output_type": "stream",
     "text": [
      "new HIs computer and individuals resorted by HI\n"
     ]
    },
    {
     "data": {
      "image/png": "[encoded data removed]",
      "text/plain": [
       "<Figure size 500x400 with 1 Axes>"
      ]
     },
     "metadata": {},
     "output_type": "display_data"
    },
    {
     "data": {
      "image/png": "[encoded data removed]",
      "text/plain": [
       "<Figure size 1600x400 with 1 Axes>"
      ]
     },
     "metadata": {},
     "output_type": "display_data"
    }
   ],
   "source": [
    "dSorted = dPolarized.copy()\n",
    "dSorted.sort()\n",
    "plt.figure(figsize=(5,4))\n",
    "plt.plot(dSorted.HIs,marker='.')\n",
    "plt.show()\n",
    "diem.utils.plot_painting(dSorted.DMBC[1])"
   ]
  },
  {
   "cell_type": "markdown",
   "id": "d4f849b5-f32a-4fe7-9da6-f4ef54119db2",
   "metadata": {
    "editable": true,
    "slideshow": {
     "slide_type": ""
    },
    "tags": []
   },
   "source": [
    "Note: it is possible to resort individuals to make two different diemtype objects have the same sorting.  \n",
    "1. The self.sort_as(other) function which takes a difrerent 'other' diemtype instance and will resort 'self' by the order of 'other'.\n",
    "2. You can also self.sort_by(newOrder), which takes an ordering as a list or array of integers"
   ]
  },
  {
   "cell_type": "markdown",
   "id": "1cfc2630-a47d-4091-aed1-e7ae6918a3c5",
   "metadata": {
    "editable": true,
    "slideshow": {
     "slide_type": ""
    },
    "tags": []
   },
   "source": [
    "# exploring the data"
   ]
  },
  {
   "cell_type": "markdown",
   "id": "966d407a-f718-4cab-8a83-3007cdc3ad5d",
   "metadata": {
    "editable": true,
    "slideshow": {
     "slide_type": ""
    },
    "tags": []
   },
   "source": [
    "## distribution of diagnostic indices\n"
   ]
  },
  {
   "cell_type": "markdown",
   "id": "772fcea2-d01e-4e88-b613-48e5f7fe7851",
   "metadata": {
    "editable": true,
    "slideshow": {
     "slide_type": ""
    },
    "tags": []
   },
   "source": [
    "Here, we introduce the notion of a marker configuration.  Each site has one of many possible unique marker configurations.  A marker configuration is simply the vector of 0,1,2,3 that gives the state of each individual at that site.  Many sites will have the same marker configuration. Each marker configuration is associated with its own diagnostic index. \n",
    "\n",
    "Below, we plot a histogram of the diagnostic indices seen in the data. The magenta colour includes the repeat occurances, while the green colour shows the distribution of *unique* DI values, each corresponding to a specific *unique* marker configuration.\n",
    "\n",
    "The marker with the highest diagnostic index is nearest 0.  In green, we see that this is the single marker in the far right bin. When we account for how often this occurs (magenta), we see that this is also the most common marker in the dataset. "
   ]
  },
  {
   "cell_type": "code",
   "execution_count": 15,
   "id": "072ea55b-676f-4d38-9d08-ba0810a88204",
   "metadata": {
    "editable": true,
    "slideshow": {
     "slide_type": ""
    },
    "tags": []
   },
   "outputs": [
    {
     "data": {
      "image/png": "[encoded data removed]",
      "text/plain": [
       "<Figure size 500x400 with 1 Axes>"
      ]
     },
     "metadata": {},
     "output_type": "display_data"
    }
   ],
   "source": [
    "DIValsWithRepeats = np.hstack(dSorted.DIByChr)\n",
    "DIValsUnique = np.unique(DIValsWithRepeats)\n",
    "plt.figure(figsize=(5,4))\n",
    "(counts,bins,patches) = plt.hist(DIValsWithRepeats,bins=100,color='darkmagenta')\n",
    "plt.hist(DIValsUnique,bins=bins,color='lightseagreen')\n",
    "plt.yscale('log')\n",
    "plt.show()"
   ]
  },
  {
   "cell_type": "markdown",
   "id": "b0cc4427-f8e3-496b-8bf7-23a468c0c667",
   "metadata": {
    "editable": true,
    "slideshow": {
     "slide_type": ""
    },
    "tags": []
   },
   "source": [
    "## characterizing marker configurations"
   ]
  },
  {
   "cell_type": "markdown",
   "id": "5682e10a-06d8-4eed-8393-64e21bba2181",
   "metadata": {
    "editable": true,
    "slideshow": {
     "slide_type": ""
    },
    "tags": []
   },
   "source": [
    "We can use the diem.utils.characterize_markers to get informationa bout the types of marker configurations we have.\n",
    "\n",
    "**note** It is very useful to have the individuals sorted by hybrid index when thinking about marker configurations, so we use the diemtype instance dSorted below.\n",
    "\n",
    "Here, a marker configuration is the array of states for the individuals at any particular site.  The marker configuration with the highest DI is the 'ideal marker' which separates individuals onto each side of a barrier.  It is also likely to be by-far the most common configuration in the data.  \n",
    "\n",
    "For each marker configuration, we get the number of times it appears in the data, the corresponding diagnostic index, how many individuals have a state differing from the ideal marker, and the number of individuals with missing data for that marker configuration."
   ]
  },
  {
   "cell_type": "code",
   "execution_count": 16,
   "id": "d6dcf4c4-52bc-4d62-8756-de4c2df7cb54",
   "metadata": {
    "editable": true,
    "slideshow": {
     "slide_type": ""
    },
    "tags": []
   },
   "outputs": [
    {
     "name": "stdout",
     "output_type": "stream",
     "text": [
      "ideal marker is (1, 1, 1, 1, 1, 1, 3, 3, 3, 3, 3, 3, 3, 3)\n"
     ]
    },
    {
     "data": {
      "text/html": [
       "<div>\n",
       "<style scoped>\n",
       "    .dataframe tbody tr th:only-of-type {\n",
       "        vertical-align: middle;\n",
       "    }\n",
       "\n",
       "    .dataframe tbody tr th {\n",
       "        vertical-align: top;\n",
       "    }\n",
       "\n",
       "    .dataframe thead th {\n",
       "        text-align: right;\n",
       "    }\n",
       "</style>\n",
       "<table border=\"1\" class=\"dataframe\">\n",
       "  <thead>\n",
       "    <tr style=\"text-align: right;\">\n",
       "      <th></th>\n",
       "      <th>configuration</th>\n",
       "      <th>count</th>\n",
       "      <th>DI</th>\n",
       "      <th>diffs_from_ideal</th>\n",
       "      <th>individuals_missing</th>\n",
       "    </tr>\n",
       "  </thead>\n",
       "  <tbody>\n",
       "    <tr>\n",
       "      <th>0</th>\n",
       "      <td>(1, 1, 1, 1, 1, 1, 3, 3, 3, 3, 3, 3, 3, 3)</td>\n",
       "      <td>278313</td>\n",
       "      <td>-0.302201</td>\n",
       "      <td>0</td>\n",
       "      <td>0</td>\n",
       "    </tr>\n",
       "    <tr>\n",
       "      <th>1</th>\n",
       "      <td>(1, 1, 1, 1, 1, 1, 1, 3, 3, 3, 3, 3, 3, 3)</td>\n",
       "      <td>433</td>\n",
       "      <td>-3.381426</td>\n",
       "      <td>1</td>\n",
       "      <td>0</td>\n",
       "    </tr>\n",
       "    <tr>\n",
       "      <th>2</th>\n",
       "      <td>(1, 1, 1, 1, 1, 1, 3, 1, 3, 3, 3, 3, 3, 3)</td>\n",
       "      <td>230</td>\n",
       "      <td>-3.782677</td>\n",
       "      <td>1</td>\n",
       "      <td>0</td>\n",
       "    </tr>\n",
       "    <tr>\n",
       "      <th>3</th>\n",
       "      <td>(1, 1, 1, 1, 1, 1, 3, 3, 1, 3, 3, 3, 3, 3)</td>\n",
       "      <td>179</td>\n",
       "      <td>-3.821299</td>\n",
       "      <td>1</td>\n",
       "      <td>0</td>\n",
       "    </tr>\n",
       "    <tr>\n",
       "      <th>4</th>\n",
       "      <td>(1, 1, 1, 1, 1, 1, 3, 3, 3, 1, 3, 3, 3, 3)</td>\n",
       "      <td>606</td>\n",
       "      <td>-4.017948</td>\n",
       "      <td>1</td>\n",
       "      <td>0</td>\n",
       "    </tr>\n",
       "    <tr>\n",
       "      <th>...</th>\n",
       "      <td>...</td>\n",
       "      <td>...</td>\n",
       "      <td>...</td>\n",
       "      <td>...</td>\n",
       "      <td>...</td>\n",
       "    </tr>\n",
       "    <tr>\n",
       "      <th>54958</th>\n",
       "      <td>(0, 0, 0, 0, 0, 0, 1, 0, 0, 0, 0, 0, 3, 0)</td>\n",
       "      <td>1</td>\n",
       "      <td>-84.438500</td>\n",
       "      <td>13</td>\n",
       "      <td>12</td>\n",
       "    </tr>\n",
       "    <tr>\n",
       "      <th>54959</th>\n",
       "      <td>(0, 0, 0, 0, 0, 0, 1, 0, 0, 0, 3, 0, 0, 0)</td>\n",
       "      <td>4</td>\n",
       "      <td>-84.684152</td>\n",
       "      <td>13</td>\n",
       "      <td>12</td>\n",
       "    </tr>\n",
       "    <tr>\n",
       "      <th>54960</th>\n",
       "      <td>(0, 0, 0, 0, 0, 0, 0, 1, 0, 0, 0, 0, 3, 0)</td>\n",
       "      <td>1</td>\n",
       "      <td>-84.878695</td>\n",
       "      <td>13</td>\n",
       "      <td>12</td>\n",
       "    </tr>\n",
       "    <tr>\n",
       "      <th>54961</th>\n",
       "      <td>(0, 0, 0, 0, 0, 0, 1, 0, 3, 0, 0, 0, 0, 0)</td>\n",
       "      <td>1</td>\n",
       "      <td>-85.163934</td>\n",
       "      <td>13</td>\n",
       "      <td>12</td>\n",
       "    </tr>\n",
       "    <tr>\n",
       "      <th>54962</th>\n",
       "      <td>(0, 0, 0, 0, 0, 0, 0, 0, 1, 0, 3, 0, 0, 0)</td>\n",
       "      <td>2</td>\n",
       "      <td>-85.214671</td>\n",
       "      <td>13</td>\n",
       "      <td>12</td>\n",
       "    </tr>\n",
       "  </tbody>\n",
       "</table>\n",
       "<p>54963 rows × 5 columns</p>\n",
       "</div>"
      ],
      "text/plain": [
       "                                    configuration   count         DI  \\\n",
       "0      (1, 1, 1, 1, 1, 1, 3, 3, 3, 3, 3, 3, 3, 3)  278313  -0.302201   \n",
       "1      (1, 1, 1, 1, 1, 1, 1, 3, 3, 3, 3, 3, 3, 3)     433  -3.381426   \n",
       "2      (1, 1, 1, 1, 1, 1, 3, 1, 3, 3, 3, 3, 3, 3)     230  -3.782677   \n",
       "3      (1, 1, 1, 1, 1, 1, 3, 3, 1, 3, 3, 3, 3, 3)     179  -3.821299   \n",
       "4      (1, 1, 1, 1, 1, 1, 3, 3, 3, 1, 3, 3, 3, 3)     606  -4.017948   \n",
       "...                                           ...     ...        ...   \n",
       "54958  (0, 0, 0, 0, 0, 0, 1, 0, 0, 0, 0, 0, 3, 0)       1 -84.438500   \n",
       "54959  (0, 0, 0, 0, 0, 0, 1, 0, 0, 0, 3, 0, 0, 0)       4 -84.684152   \n",
       "54960  (0, 0, 0, 0, 0, 0, 0, 1, 0, 0, 0, 0, 3, 0)       1 -84.878695   \n",
       "54961  (0, 0, 0, 0, 0, 0, 1, 0, 3, 0, 0, 0, 0, 0)       1 -85.163934   \n",
       "54962  (0, 0, 0, 0, 0, 0, 0, 0, 1, 0, 3, 0, 0, 0)       2 -85.214671   \n",
       "\n",
       "       diffs_from_ideal  individuals_missing  \n",
       "0                     0                    0  \n",
       "1                     1                    0  \n",
       "2                     1                    0  \n",
       "3                     1                    0  \n",
       "4                     1                    0  \n",
       "...                 ...                  ...  \n",
       "54958                13                   12  \n",
       "54959                13                   12  \n",
       "54960                13                   12  \n",
       "54961                13                   12  \n",
       "54962                13                   12  \n",
       "\n",
       "[54963 rows x 5 columns]"
      ]
     },
     "execution_count": 16,
     "metadata": {},
     "output_type": "execute_result"
    }
   ],
   "source": [
    "markerDF = diem.utils.characterize_markers(dSorted)\n",
    "idealMarker = markerDF.iloc[0]['configuration']\n",
    "print('ideal marker is',idealMarker)\n",
    "markerDF"
   ]
  },
  {
   "cell_type": "markdown",
   "id": "ee88cf63-6fa9-45df-982e-d8be98c9bb81",
   "metadata": {
    "editable": true,
    "slideshow": {
     "slide_type": ""
    },
    "tags": []
   },
   "source": [
    "We can use this to help guide us in choosing threshold values, for example, we can look at the dataframe restricted to marker configurations with at most three differences from the ideal makrer.  The minimum DI of which could provide a threshold to use on our data. "
   ]
  },
  {
   "cell_type": "code",
   "execution_count": 17,
   "id": "d2a38794-5a00-4a83-89a4-ac6e217981b9",
   "metadata": {
    "editable": true,
    "slideshow": {
     "slide_type": ""
    },
    "tags": []
   },
   "outputs": [
    {
     "name": "stdout",
     "output_type": "stream",
     "text": [
      "-25.997900830115373\n"
     ]
    }
   ],
   "source": [
    "atMostThreeDF = markerDF[markerDF['diffs_from_ideal']<=3]\n",
    "thisThreshold = min(atMostThreeDF['DI'])\n",
    "print(thisThreshold)"
   ]
  },
  {
   "cell_type": "markdown",
   "id": "9449ba07-8945-491e-8a97-ac0c86c11bb0",
   "metadata": {
    "editable": true,
    "slideshow": {
     "slide_type": ""
    },
    "tags": []
   },
   "source": [
    "And we can check the proportion of sites that will be retained by appyling this threshold."
   ]
  },
  {
   "cell_type": "code",
   "execution_count": 18,
   "id": "0b3f7505-9d5d-4162-9c9e-f247ccc09944",
   "metadata": {
    "editable": true,
    "slideshow": {
     "slide_type": ""
    },
    "tags": []
   },
   "outputs": [
    {
     "data": {
      "text/plain": [
       "[0.6022922740193808, 0.6169519633471062]"
      ]
     },
     "execution_count": 18,
     "metadata": {},
     "output_type": "execute_result"
    }
   ],
   "source": [
    "diem.utils.check_coverage_after_thresholding(dSorted,thisThreshold)"
   ]
  },
  {
   "cell_type": "markdown",
   "id": "6cecb23d-04e4-40c9-b671-304c733d05a3",
   "metadata": {
    "editable": true,
    "slideshow": {
     "slide_type": ""
    },
    "tags": []
   },
   "source": [
    "# deciding on and applying a threshold "
   ]
  },
  {
   "cell_type": "markdown",
   "id": "cacf5045-c593-4c86-b1ea-3efc7beddb32",
   "metadata": {
    "editable": true,
    "slideshow": {
     "slide_type": ""
    },
    "tags": []
   },
   "source": [
    "For Zia, we picked a threshold by taking the lowest value required to include all marker configurations with at most two differences from the 'ideal marker'.  I made a sort of table of the threshold value as a function of the number of differences.\n",
    "\n",
    "We also looked at how the choice of threshold affected the number of sites retained in each chromsoome.  I also tried to make some plots about marker properties and threshold choices, but I don't know how interesting or useful they ctually were.\n",
    "\n",
    "**@ stuart** you are going to have to decide what you think is an appropriate 'standard' workflow here.  It's easy to put together the code for it (whatever functions we want to add to diem.utils) as well as the tutorial here."
   ]
  },
  {
   "cell_type": "markdown",
   "id": "c556d0b0-0128-48f9-a8c8-ac4a306c4d3f",
   "metadata": {
    "editable": true,
    "slideshow": {
     "slide_type": ""
    },
    "tags": []
   },
   "source": [
    "Once we have decided on a threshold, it is easy to apply it using the apply_threshold() function of the diemtype class:\n"
   ]
  },
  {
   "cell_type": "code",
   "execution_count": 19,
   "id": "9d6a0300-5382-42a8-92de-bca9c3ff8a06",
   "metadata": {
    "editable": true,
    "slideshow": {
     "slide_type": ""
    },
    "tags": []
   },
   "outputs": [
    {
     "name": "stdout",
     "output_type": "stream",
     "text": [
      "proportion of each chromosome retained after thresholding:\n",
      "[0.6022940904013296, 0.6169772605897068]\n",
      "thresholding done\n",
      "hybrid indices have likely changed, but have not been updated\n",
      "to update HIs without re-sorting, update the attribute a.HIs = a.computeHIs()\n",
      "You may also call the sort() method on the resulting data if you wish to both re-compute and resort\n"
     ]
    }
   ],
   "source": [
    "myThreshold = -26\n",
    "dThresholded = dSorted.apply_threshold(myThreshold)"
   ]
  },
  {
   "cell_type": "code",
   "execution_count": 20,
   "id": "4d91de68-28bc-4992-9406-2a41f06d92ae",
   "metadata": {
    "editable": true,
    "slideshow": {
     "slide_type": ""
    },
    "tags": []
   },
   "outputs": [
    {
     "data": {
      "text/plain": [
       "{'DMBC': [array([[2, 1, 1, ..., 1, 1, 1],\n",
       "         [1, 1, 1, ..., 1, 1, 1],\n",
       "         [2, 1, 1, ..., 1, 1, 1],\n",
       "         ...,\n",
       "         [3, 3, 3, ..., 3, 3, 3],\n",
       "         [3, 3, 3, ..., 0, 3, 3],\n",
       "         [3, 3, 2, ..., 3, 3, 3]]),\n",
       "  array([[1, 1, 1, ..., 1, 1, 1],\n",
       "         [1, 1, 1, ..., 1, 1, 1],\n",
       "         [1, 1, 1, ..., 1, 1, 1],\n",
       "         ...,\n",
       "         [3, 3, 1, ..., 1, 1, 1],\n",
       "         [3, 1, 3, ..., 3, 3, 3],\n",
       "         [3, 1, 3, ..., 3, 3, 3]])],\n",
       " 'indNames': array(['IP_RVcoll12R048', 'IP_RVcoll14H960', 'IP_502', 'IP_504',\n",
       "        'IP_RVcoll14E561', 'IP_RVcoll14F754', 'IF_234', 'IF_236', 'IF_165',\n",
       "        'IF_RVcoll17B439', 'IF_RVcoll14B411', 'IF_142', 'IF_RVcoll11F366',\n",
       "        'IF_RVcoll12N508'], dtype=object),\n",
       " 'chrPloidies': array([[2, 1, 2, 2, 1, 2, 2, 2, 2, 2, 1, 1, 2, 1],\n",
       "        [2, 2, 2, 2, 2, 2, 2, 2, 2, 2, 2, 2, 2, 2]]),\n",
       " 'chrNames': array(['iphiclides_podalirius.IP_504.v2_0.chromosome_Z',\n",
       "        'iphiclides_podalirius.IP_504.v2_0.chromosome_2'], dtype=object),\n",
       " 'posByChr': [array([     113,      141,      173, ..., 21051786, 21051791, 21051807]),\n",
       "  array([      70,      422,      497, ..., 17990009, 17990025, 17990125])],\n",
       " 'chrLengths': array([21051824, 17990613]),\n",
       " 'MapBC': [array([5.36770591e-06, 6.69775693e-06, 8.21781524e-06, ...,\n",
       "         9.99998195e-01, 9.99998432e-01, 9.99999192e-01]),\n",
       "  array([3.89091800e-06, 2.34566771e-05, 2.76255178e-05, ...,\n",
       "         9.99966427e-01, 9.99967316e-01, 9.99972875e-01])],\n",
       " 'HIs': array([0.09433748, 0.10816828, 0.10852343, 0.11029406, 0.11187626,\n",
       "        0.12277935, 0.69428351, 0.70971861, 0.71091779, 0.71828345,\n",
       "        0.72274987, 0.72459524, 0.73045299, 0.74711298]),\n",
       " 'initialPolByChr': [array([0, 1, 0, ..., 0, 1, 0], dtype=int8),\n",
       "  array([0, 1, 0, ..., 1, 0, 1], dtype=int8)],\n",
       " 'PolByChr': [array([0, 0, 0, ..., 0, 1, 0], dtype=int8),\n",
       "  array([0, 0, 0, ..., 1, 0, 0], dtype=int8)],\n",
       " 'DIByChr': [array([-19.99899103,  -6.67864208,  -8.78064173, ...,  -6.1489279 ,\n",
       "          -0.30220071,  -0.30220071]),\n",
       "  array([ -0.30220071, -10.58283236, -21.91826058, ..., -21.91826058,\n",
       "         -21.91826058, -21.91826058])],\n",
       " 'SupportByChr': [array([40.15241927, 13.5904795 , 35.06312798, ..., 60.61444207,\n",
       "         64.84770428, 64.84770428]),\n",
       "  array([64.84770428,  9.52084564, 44.28644097, ..., 21.61558453,\n",
       "         21.61558453, 36.5392632 ])],\n",
       " 'threshold': -26,\n",
       " 'smoothScale': None,\n",
       " 'contigMatrix': None,\n",
       " 'siteExclusionsByChr': None,\n",
       " 'indExclusions': None}"
      ]
     },
     "execution_count": 20,
     "metadata": {},
     "output_type": "execute_result"
    }
   ],
   "source": [
    "vars(dThresholded)"
   ]
  },
  {
   "cell_type": "markdown",
   "id": "fafc0dcc-6e2d-49d6-bd7d-d684038182c0",
   "metadata": {
    "editable": true,
    "slideshow": {
     "slide_type": ""
    },
    "tags": []
   },
   "source": [
    "apply_threshold() returns a new diemtype instance. The 'threshold' attribute is set to the chosen value, and all sites with DI below that threshold have been removed from the data. \n",
    "\n",
    "**Note, after thresholding, the hybrid indices need to be re-calculated, and it is possible that the individual orders could change.**\n",
    "\n",
    "**how do we want to handle this?  I.e. When should we re-caculate hybrid indices behind the scenes and when should we not?  One opton is that anytime we alter the data in a way that could change hybrid indices, we simply set them to None again** "
   ]
  },
  {
   "cell_type": "code",
   "execution_count": 21,
   "id": "3324d755-d267-414e-97ea-89b0477b0e44",
   "metadata": {
    "editable": true,
    "slideshow": {
     "slide_type": ""
    },
    "tags": []
   },
   "outputs": [
    {
     "data": {
      "image/png": "[encoded data removed]",
      "text/plain": [
       "<Figure size 1600x400 with 1 Axes>"
      ]
     },
     "metadata": {},
     "output_type": "display_data"
    }
   ],
   "source": [
    "diem.utils.plot_painting(dThresholded.DMBC[1])"
   ]
  },
  {
   "cell_type": "markdown",
   "id": "c4c7fdbd-1b60-4f5a-a58a-c20eea87b054",
   "metadata": {
    "editable": true,
    "slideshow": {
     "slide_type": ""
    },
    "tags": []
   },
   "source": [
    "# deciding on a smoothing scale"
   ]
  },
  {
   "cell_type": "markdown",
   "id": "5ae66cf9-85b0-4847-b722-5625572b58ac",
   "metadata": {
    "editable": true,
    "slideshow": {
     "slide_type": ""
    },
    "tags": []
   },
   "source": [
    "Here, I just tried several smoothing scales and plotted the number of sites that changed due to smoothing ( across all individuals and chromosomes) using the diem.utils.count_site_differences() function.  This function takes the DMBC of two different diemtype instances and returns the number of sites that differ, compare chromosome-by-chromosome and individual-by-individual.\n",
    "\n",
    "We can see how  this levels out once the small bits have been smoothed over, and we took that as our scale... \n",
    "\n",
    "However, there are plenty more ways of looking at this.  Particularly interesting might be the distribution of the size of tracts which were smoothed, but that is more complicated.  \n",
    "\n",
    "An example workflow using just sites that changed by smoothing is below"
   ]
  },
  {
   "cell_type": "code",
   "execution_count": 22,
   "id": "e30dd443-7d27-4212-be40-f3577dd89848",
   "metadata": {
    "editable": true,
    "slideshow": {
     "slide_type": ""
    },
    "tags": []
   },
   "outputs": [
    {
     "name": "stdout",
     "output_type": "stream",
     "text": [
      "smoothing the data with scale  1e-06\n",
      "smoothing done, but not resorting by HI. You may call the sort() method on the resulting data if you wish to resort\n",
      "smoothing the data with scale  5e-06\n",
      "smoothing done, but not resorting by HI. You may call the sort() method on the resulting data if you wish to resort\n",
      "smoothing the data with scale  1e-05\n",
      "smoothing done, but not resorting by HI. You may call the sort() method on the resulting data if you wish to resort\n",
      "smoothing the data with scale  5e-05\n",
      "smoothing done, but not resorting by HI. You may call the sort() method on the resulting data if you wish to resort\n",
      "smoothing the data with scale  0.0001\n",
      "smoothing done, but not resorting by HI. You may call the sort() method on the resulting data if you wish to resort\n",
      "smoothing the data with scale  0.0005\n",
      "smoothing done, but not resorting by HI. You may call the sort() method on the resulting data if you wish to resort\n"
     ]
    }
   ],
   "source": [
    "scalesToTry = [1e-6,5e-6,1e-5,5e-5,1e-4,5e-4]\n",
    "sitesDiffByScale = []\n",
    "for scale in scalesToTry:\n",
    "    dSmoothedTest = dThresholded.smooth(scale)\n",
    "    kdiffs = diem.utils.count_site_differences(dSmoothedTest.DMBC,dThresholded.DMBC)\n",
    "    sitesDiffByScale.append(kdiffs)\n"
   ]
  },
  {
   "cell_type": "code",
   "execution_count": 23,
   "id": "f23f17ec-64a0-4f7c-a98d-fa23f861ddae",
   "metadata": {
    "editable": true,
    "slideshow": {
     "slide_type": ""
    },
    "tags": []
   },
   "outputs": [
    {
     "data": {
      "image/png": "[encoded data removed]",
      "text/plain": [
       "<Figure size 500x400 with 1 Axes>"
      ]
     },
     "metadata": {},
     "output_type": "display_data"
    }
   ],
   "source": [
    "plt.figure(figsize=(5,4))\n",
    "plt.plot(scalesToTry,sitesDiffByScale,marker='.')\n",
    "plt.show()"
   ]
  },
  {
   "cell_type": "markdown",
   "id": "7e51461e-a82f-4e22-af1a-169ad18f9c9f",
   "metadata": {
    "editable": true,
    "slideshow": {
     "slide_type": ""
    },
    "tags": []
   },
   "source": [
    "We see that the number of sites that are affected by smoothing plataeus around 1e-4. This suggests we have smoothed over many of the short tracts generated, for example, by gene conversion.  "
   ]
  },
  {
   "cell_type": "code",
   "execution_count": 24,
   "id": "b5714d4c-78fb-4cd4-8346-f773b3d36b60",
   "metadata": {
    "editable": true,
    "slideshow": {
     "slide_type": ""
    },
    "tags": []
   },
   "outputs": [
    {
     "name": "stdout",
     "output_type": "stream",
     "text": [
      "smoothing the data with scale  0.0001\n",
      "smoothing done, but not resorting by HI. You may call the sort() method on the resulting data if you wish to resort\n"
     ]
    },
    {
     "data": {
      "image/png": "[encoded data removed]",
      "text/plain": [
       "<Figure size 1600x400 with 1 Axes>"
      ]
     },
     "metadata": {},
     "output_type": "display_data"
    }
   ],
   "source": [
    "dSmoothed = dThresholded.smooth(1e-4)\n",
    "diem.utils.plot_painting(dSmoothed.DMBC[1])"
   ]
  },
  {
   "cell_type": "markdown",
   "id": "b84941a6-6e8f-47be-a260-b9ef11e037fd",
   "metadata": {
    "editable": true,
    "slideshow": {
     "slide_type": ""
    },
    "tags": []
   },
   "source": [
    "# constructing contigs and outputting bed-like file"
   ]
  },
  {
   "cell_type": "markdown",
   "id": "8a58e31d-5543-44e8-a3d6-a36651e97db7",
   "metadata": {
    "editable": true,
    "slideshow": {
     "slide_type": ""
    },
    "tags": []
   },
   "source": [
    "Once we are happy with the 'final' data from our workflow above, we are ready to make contigs.\n",
    "\n",
    "Contigs are a per-individual and per-chromosome construct. It contains the chromosome name, the individual to which it belongs, as well as a list of intervals that describe the data (from left to right along the chromsome). \n",
    "\n",
    "An interval simply records a tract of consecutive sites with the same state.  Each interval knows the chromosome and individual to which it belongs, the index of the left and right sites in the genome that define the interval, the corresponding physical position in basepairs, and the state of the interval (i.e. 0,1,2, or 3)\n",
    "\n",
    "We construct contigs for a given diplotype IN PLACE, so it corresponds exactly to the data in the DMBC, and the number of intervals is determined by how much states change along a chromosome.  If we construct contigs for the thresholded (but not smoothed) data, there will be many many such contigs, and it will eat up a lot of memory. Constructing contigs before thresholding would be even worse, and we strongly recommend you do not try it.\n",
    "\n",
    "\n",
    "NOTE that as a default, intervals of length 1 (single sites) are included as intervals, though they have effectively 0 span. To exclude single-site intervals, pass the optional argument \"includeSingle = True\" to create_contig_matrix() \n"
   ]
  },
  {
   "cell_type": "code",
   "execution_count": 25,
   "id": "bcc263ae-7c48-4b90-8c50-bbbe74a850e6",
   "metadata": {
    "editable": true,
    "slideshow": {
     "slide_type": ""
    },
    "tags": []
   },
   "outputs": [
    {
     "name": "stdout",
     "output_type": "stream",
     "text": [
      "contig matrix created and stored in self.contigMatrix\n"
     ]
    }
   ],
   "source": [
    "dSmoothed.create_contig_matrix()"
   ]
  },
  {
   "cell_type": "markdown",
   "id": "38b30cae-c9f5-4e9d-a641-9058c8837f36",
   "metadata": {
    "editable": true,
    "slideshow": {
     "slide_type": ""
    },
    "tags": []
   },
   "source": [
    "The contig matrix has rows as chromosomes and columns as individuals, similar to the DMBC, and each entry is an instance of a contig:"
   ]
  },
  {
   "cell_type": "code",
   "execution_count": 26,
   "id": "0ae264fe-8ae1-4db3-a271-bc25587ea5ec",
   "metadata": {
    "editable": true,
    "slideshow": {
     "slide_type": ""
    },
    "tags": []
   },
   "outputs": [
    {
     "data": {
      "text/plain": [
       "array([[<diem.contigs.Contig object at 0x7b0cf17b2510>,\n",
       "        <diem.contigs.Contig object at 0x7b0ceb1d8a50>,\n",
       "        <diem.contigs.Contig object at 0x7b0ceb1d8cd0>,\n",
       "        <diem.contigs.Contig object at 0x7b0cf164e2c0>,\n",
       "        <diem.contigs.Contig object at 0x7b0cf164f950>,\n",
       "        <diem.contigs.Contig object at 0x7b0ceb4efad0>,\n",
       "        <diem.contigs.Contig object at 0x7b0cee869f20>,\n",
       "        <diem.contigs.Contig object at 0x7b0cee86a580>,\n",
       "        <diem.contigs.Contig object at 0x7b0ceea41a50>,\n",
       "        <diem.contigs.Contig object at 0x7b0cedfac950>,\n",
       "        <diem.contigs.Contig object at 0x7b0cf1d9c7d0>,\n",
       "        <diem.contigs.Contig object at 0x7b0cf1d9c410>,\n",
       "        <diem.contigs.Contig object at 0x7b0cee069e10>,\n",
       "        <diem.contigs.Contig object at 0x7b0cee06a970>],\n",
       "       [<diem.contigs.Contig object at 0x7b0cee0b31e0>,\n",
       "        <diem.contigs.Contig object at 0x7b0ceb173a10>,\n",
       "        <diem.contigs.Contig object at 0x7b0ceb173950>,\n",
       "        <diem.contigs.Contig object at 0x7b0ceb3310d0>,\n",
       "        <diem.contigs.Contig object at 0x7b0ceb331180>,\n",
       "        <diem.contigs.Contig object at 0x7b0ceb1bedf0>,\n",
       "        <diem.contigs.Contig object at 0x7b0ceb1be0d0>,\n",
       "        <diem.contigs.Contig object at 0x7b0ceb1e0710>,\n",
       "        <diem.contigs.Contig object at 0x7b0ceb06e450>,\n",
       "        <diem.contigs.Contig object at 0x7b0ceb07c8d0>,\n",
       "        <diem.contigs.Contig object at 0x7b0ceb2d6b30>,\n",
       "        <diem.contigs.Contig object at 0x7b0ceb2d5d30>,\n",
       "        <diem.contigs.Contig object at 0x7b0ceb2d4600>,\n",
       "        <diem.contigs.Contig object at 0x7b0ceb2d55c0>]], dtype=object)"
      ]
     },
     "execution_count": 26,
     "metadata": {},
     "output_type": "execute_result"
    }
   ],
   "source": [
    "dSmoothed.contigMatrix"
   ]
  },
  {
   "cell_type": "markdown",
   "id": "62f26343-2692-40a7-9b52-e02fcb5fb4cb",
   "metadata": {
    "editable": true,
    "slideshow": {
     "slide_type": ""
    },
    "tags": []
   },
   "source": [
    "Below, we see that a contig contains info about the number of intervals, the individual name, the chromsome name, and the list of intervals."
   ]
  },
  {
   "cell_type": "code",
   "execution_count": 27,
   "id": "993092ee-cd8e-41fc-a991-097c985a873e",
   "metadata": {
    "editable": true,
    "slideshow": {
     "slide_type": ""
    },
    "tags": []
   },
   "outputs": [
    {
     "data": {
      "text/plain": [
       "{'intervals': [<diem.contigs.Interval at 0x7b0cf17b1fd0>,\n",
       "  <diem.contigs.Interval at 0x7b0ceb1d87d0>,\n",
       "  <diem.contigs.Interval at 0x7b0ceb1d8910>,\n",
       "  <diem.contigs.Interval at 0x7b0cf1d2f100>,\n",
       "  <diem.contigs.Interval at 0x7b0cf164f490>,\n",
       "  <diem.contigs.Interval at 0x7b0ceb4efd10>,\n",
       "  <diem.contigs.Interval at 0x7b0cee6a88d0>,\n",
       "  <diem.contigs.Interval at 0x7b0cf17d49e0>,\n",
       "  <diem.contigs.Interval at 0x7b0ceea42150>,\n",
       "  <diem.contigs.Interval at 0x7b0ceea43e50>,\n",
       "  <diem.contigs.Interval at 0x7b0cee9c3980>,\n",
       "  <diem.contigs.Interval at 0x7b0cf1d9d7c0>,\n",
       "  <diem.contigs.Interval at 0x7b0cee66eeb0>,\n",
       "  <diem.contigs.Interval at 0x7b0cee0625f0>,\n",
       "  <diem.contigs.Interval at 0x7b0cedc617e0>,\n",
       "  <diem.contigs.Interval at 0x7b0cf1583590>,\n",
       "  <diem.contigs.Interval at 0x7b0ceb1ca990>],\n",
       " 'num_intervals': 17,\n",
       " 'indName': 'IP_RVcoll12R048',\n",
       " 'chrName': 'iphiclides_podalirius.IP_504.v2_0.chromosome_Z'}"
      ]
     },
     "execution_count": 27,
     "metadata": {},
     "output_type": "execute_result"
    }
   ],
   "source": [
    "exampleContig = dSmoothed.contigMatrix[0][0]\n",
    "exampleContig.__dict__"
   ]
  },
  {
   "cell_type": "markdown",
   "id": "cfb518cf-03f2-40c6-877a-5e927c9231dc",
   "metadata": {
    "editable": true,
    "slideshow": {
     "slide_type": ""
    },
    "tags": []
   },
   "source": [
    "Here, we look at the first interval in that list:"
   ]
  },
  {
   "cell_type": "code",
   "execution_count": 28,
   "id": "f8f6e6d8-ffad-413c-b7df-6e85d68f2b1c",
   "metadata": {
    "editable": true,
    "slideshow": {
     "slide_type": ""
    },
    "tags": []
   },
   "outputs": [
    {
     "data": {
      "text/plain": [
       "{'chrName': 'iphiclides_podalirius.IP_504.v2_0.chromosome_Z',\n",
       " 'indName': 'IP_RVcoll12R048',\n",
       " 'idxl': 0,\n",
       " 'idxr': 20856,\n",
       " 'l': 113,\n",
       " 'r': 1075623,\n",
       " 'state': 1}"
      ]
     },
     "execution_count": 28,
     "metadata": {},
     "output_type": "execute_result"
    }
   ],
   "source": [
    "exampleInterval = exampleContig.intervals[0]\n",
    "exampleInterval.__dict__"
   ]
  },
  {
   "cell_type": "markdown",
   "id": "63d7bdec-5a68-46bc-9d17-fa8eed1baee8",
   "metadata": {
    "editable": true,
    "slideshow": {
     "slide_type": ""
    },
    "tags": []
   },
   "source": [
    "We can use the diemtype's built-in get_intervals_of_state() function to access particular intervals from the data. Here's the documentation:\n"
   ]
  },
  {
   "cell_type": "code",
   "execution_count": 29,
   "id": "76b8ac81-8375-4f59-b94e-3f76accf0b67",
   "metadata": {
    "editable": true,
    "slideshow": {
     "slide_type": ""
    },
    "tags": []
   },
   "outputs": [
    {
     "name": "stdout",
     "output_type": "stream",
     "text": [
      "Help on function get_intervals_of_state in module diem.diemtype:\n",
      "\n",
      "get_intervals_of_state(\n",
      "    self,\n",
      "    state,\n",
      "    individualSubset=None,\n",
      "    chromosomeSubset=None\n",
      ")\n",
      "    Get intervals of a specified state for given individuals and chromosomes.\n",
      "\n",
      "    Args:\n",
      "        state (int): The state to find intervals for (0, 1, 2, or 3).\n",
      "        individualSubset (List[int], optional): List of individual indices to include. If None, includes all individuals.\n",
      "        chromosomeSubset (List[int], optional): List of chromosome indices to include. If None, includes all chromosomes.\n",
      "\n",
      "    Returns:\n",
      "        List[Interval]: A list of Interval objects for the specified state across the specified individuals and chromosomes.\n",
      "\n"
     ]
    }
   ],
   "source": [
    "help(diem.diemtype.DiemType.get_intervals_of_state)"
   ]
  },
  {
   "cell_type": "markdown",
   "id": "17597cf6-9c9e-4e49-b6f1-33b5a3172d99",
   "metadata": {
    "editable": true,
    "slideshow": {
     "slide_type": ""
    },
    "tags": []
   },
   "source": [
    "The documentation tells us that this function has the required argument 'state', and two optional arguments for individualSubset and chromosomeSubset, both of which default to None. The default behaviour is therefore to return a list of all intervals of the chosen state across all individuals and across all chromsomes:"
   ]
  },
  {
   "cell_type": "code",
   "execution_count": 30,
   "id": "cba77136-bc52-4615-acad-7ff589ff87c0",
   "metadata": {
    "editable": true,
    "slideshow": {
     "slide_type": ""
    },
    "tags": []
   },
   "outputs": [
    {
     "name": "stdout",
     "output_type": "stream",
     "text": [
      "num of spans with length of 0 (i.e. only one site) 43\n"
     ]
    },
    {
     "data": {
      "image/png": "[encoded data removed]",
      "text/plain": [
       "<Figure size 640x480 with 1 Axes>"
      ]
     },
     "metadata": {},
     "output_type": "display_data"
    }
   ],
   "source": [
    "thisState = 2\n",
    "\n",
    "testIntervalList = dSmoothed.get_intervals_of_state(thisState)\n",
    "spans = np.array([x.idxr - x.idxl for x in testIntervalList])\n",
    "\n",
    "print('num of spans with length of 0 (i.e. only one site)', sum(spans==0))\n",
    "plt.hist(spans,bins=100)\n",
    "plt.show()"
   ]
  },
  {
   "cell_type": "markdown",
   "id": "698072c3-60be-4567-a899-65fd36ab0d9b",
   "metadata": {
    "editable": true,
    "slideshow": {
     "slide_type": ""
    },
    "tags": []
   },
   "source": [
    "Next, let's check out the optional subsetting arguments for chromosomes and individuals. Why do this? For example, we may want to compare intervals of state '2' between the X chromosome and the autosome in our data set. Alternatively, we may want to compare the length of heterozygous tracts on opposite sides of the barrier.\n",
    "\n",
    "Below, we plot the distribution of spans for intervals with state 2, comparing individuals from different sides of the barrier, and restricting our analysis to intervals only on chromosome with index 1 (the autosome in our test data).\n",
    "\n",
    "From characterizing the markers above, and looking at the ideal marker configuration, we know that individuals indexed 0,1,2,3,4,5 are on the '1' side of the barrier and 6,7,8,9,10,11,12, and 13 are from the other '3' side of the barrier. \n",
    "\n",
    "We can seen agreement with the corresponding chromosome painting above (using diem.utils.plot_painting(dSmoothed.DMBC[1])). The indiviudals 0,1,2,3,4,5 on the '1' side of the barrier (blue in the painting) do indeed appear longer than those on the other side of the barrier (green in the painting).  "
   ]
  },
  {
   "cell_type": "code",
   "execution_count": 31,
   "id": "2584a1b7-f0f6-4b0e-a687-ae60880c2a24",
   "metadata": {
    "editable": true,
    "slideshow": {
     "slide_type": ""
    },
    "tags": []
   },
   "outputs": [
    {
     "name": "stdout",
     "output_type": "stream",
     "text": [
      "num of spans with 0 length for [0, 1, 2, 3, 4, 5] is 13\n",
      "num of spans with 0 length for [6, 7, 8, 9, 10, 11, 12, 13] is 22\n"
     ]
    },
    {
     "data": {
      "image/png": "[encoded data removed]",
      "text/plain": [
       "<Figure size 640x480 with 1 Axes>"
      ]
     },
     "metadata": {},
     "output_type": "display_data"
    }
   ],
   "source": [
    "thisState = 2\n",
    "\n",
    "individualsSubsetted= [0,1,2,3,4,5]\n",
    "testIntervalList = dSmoothed.get_intervals_of_state(thisState,individualSubset=individualsSubsetted,chromosomeSubset=[1])\n",
    "spans = np.array([x.idxr - x.idxl for x in testIntervalList])\n",
    "print('num of spans with 0 length for',individualsSubsetted,'is', sum(spans==0))\n",
    "n,bins,patches = plt.hist(spans,color = 'b',bins=100,alpha=0.5)\n",
    "\n",
    "individualsSubsetted= [6,7,8,9,10,11,12,13]\n",
    "testIntervalList = dSmoothed.get_intervals_of_state(thisState,individualSubset=individualsSubsetted,chromosomeSubset=[1])\n",
    "spans = np.array([x.idxr - x.idxl for x in testIntervalList])\n",
    "print('num of spans with 0 length for',individualsSubsetted,'is', sum(spans==0))\n",
    "plt.hist(spans,bins=bins,color='g',alpha=0.5)\n",
    "\n",
    "plt.yscale('log')\n",
    "plt.show()"
   ]
  },
  {
   "cell_type": "markdown",
   "id": "b7625f50",
   "metadata": {},
   "source": [
    "**saving the contigs to a bed-like file**\n",
    "\n",
    "We can store the key information about the intervals in a bed-like file. We do this by creating a bed file **for each individual separately**.\n",
    "\n",
    "For each individual, columns are for chromosome Name, left position (0-indcexed), right position (0-indexed), and state.  Note that the left and right 'indices' of the flanking mutatins is **not** recorded in the bed like file and is only stored in the diem interval class objects.  "
   ]
  },
  {
   "cell_type": "markdown",
   "id": "c561bcf9",
   "metadata": {},
   "source": [
    "We simply need to define a path to the folder in which to store the per-individual files.  A file will be automatically generated for each individual.\n",
    "\n",
    "/path_to_output_directory/contig_bed_files/\n",
    "\n"
   ]
  },
  {
   "cell_type": "code",
   "execution_count": null,
   "id": "0479c4ce",
   "metadata": {},
   "outputs": [],
   "source": []
  },
  {
   "cell_type": "markdown",
   "id": "f1a96c14-fcb5-438c-9175-ededc0362c77",
   "metadata": {
    "editable": true,
    "slideshow": {
     "slide_type": ""
    },
    "tags": []
   },
   "source": [
    "# Advance Polarization options:\n"
   ]
  },
  {
   "cell_type": "markdown",
   "id": "7d026128-2ed7-42e5-9eee-c0fad04047b2",
   "metadata": {
    "editable": true,
    "slideshow": {
     "slide_type": ""
    },
    "tags": []
   },
   "source": [
    "above, we looked at an example of polarizing using the default parameters.  Here, we look at the advanced options for polarizing the data. Let's look at the help for this function:"
   ]
  },
  {
   "cell_type": "code",
   "execution_count": 32,
   "id": "b9388f5c-01f4-4ddc-81f4-0efd2cf6b730",
   "metadata": {
    "editable": true,
    "slideshow": {
     "slide_type": ""
    },
    "tags": []
   },
   "outputs": [
    {
     "name": "stdout",
     "output_type": "stream",
     "text": [
      "Help on function polarize in module diem.diemtype:\n",
      "\n",
      "polarize(\n",
      "    self,\n",
      "    ncores=1,\n",
      "    boolTestData=False,\n",
      "    maxItt=500,\n",
      "    epsilon=0.99,\n",
      "    sort_by_HI=False\n",
      ")\n",
      "    Polarize the state matrices by initializing test polarities and running the EM algorithm. Does not change self, but rather returns a polarized copy. Note that it will use the individual and site exclusions defined in self.\n",
      "\n",
      "    Args:\n",
      "        ncores (int): number of cores to use for parallel processing. If 1, runs in serial.\n",
      "        boolTestData (bool): if True, initializes polarity using test data method. If False, initializes polarity randomly.\n",
      "        maxItt (int, optional): Maximum number of iterations for the EM algorithm. Default is 500.\n",
      "        epsilon (float, optional): Convergence threshold for the EM algorithm. Default is 0.99\n",
      "\n",
      "    Returns:\n",
      "        DiemType: A new DiemType instance with polarized data.\n",
      "\n"
     ]
    }
   ],
   "source": [
    "help(diem.diemtype.DiemType.polarize)"
   ]
  },
  {
   "cell_type": "markdown",
   "id": "479c171e-9c1d-4bcc-977d-5c1469462780",
   "metadata": {
    "editable": true,
    "slideshow": {
     "slide_type": ""
    },
    "tags": []
   },
   "source": [
    "The default is to polarize using a single core.  However, for large datasets, we can parallelize this over any number of cores, though with diminishign returns. Caution, though, as this may also require additional memory resources **need to check this**\n",
    "\n",
    "The option boolTestData is for debugging purposes only, and should be left as 'False' unless working with the developers on an issue with the code.\n",
    "\n",
    "**note** that the site exclusions and individual exclusions, if there are any, should be imported with the raw data. These are used automatically used during polarization.  It is also possible to add these exclusions manually after import (as we will see below to illustrate how this works).  "
   ]
  },
  {
   "cell_type": "markdown",
   "id": "c4e1ac49-b8c9-4757-9ff8-ee5a319d5b6b",
   "metadata": {
    "editable": true,
    "slideshow": {
     "slide_type": ""
    },
    "tags": []
   },
   "source": [
    "Let's create a diem input with exclusions.  The exclusions will usually automatically be loaded on data input, but it is also possible to add them manually. To do this, We make a copy of the raw input diem object, then assign values to those attributes.  We excluded individuals 2 and 3 (by name) and we excluded the first 10k sites from the second chromosome"
   ]
  },
  {
   "cell_type": "code",
   "execution_count": 33,
   "id": "2bd29c04-f688-4b40-ba2c-70b5c04c1d2f",
   "metadata": {
    "editable": true,
    "slideshow": {
     "slide_type": ""
    },
    "tags": []
   },
   "outputs": [
    {
     "data": {
      "text/plain": [
       "{'DMBC': [array([[1, 3, 3, ..., 1, 3, 1],\n",
       "         [1, 1, 3, ..., 1, 3, 1],\n",
       "         [1, 1, 2, ..., 1, 3, 1],\n",
       "         ...,\n",
       "         [3, 1, 1, ..., 3, 1, 3],\n",
       "         [3, 1, 1, ..., 0, 1, 3],\n",
       "         [0, 0, 0, ..., 3, 1, 3]]),\n",
       "  array([[1, 1, 1, ..., 1, 1, 1],\n",
       "         [1, 1, 1, ..., 1, 1, 1],\n",
       "         [1, 1, 1, ..., 1, 1, 1],\n",
       "         ...,\n",
       "         [3, 1, 1, ..., 3, 3, 2],\n",
       "         [3, 3, 1, ..., 3, 3, 1],\n",
       "         [3, 1, 3, ..., 1, 1, 2]])],\n",
       " 'indNames': array(['IP_RVcoll14H960', 'IP_RVcoll14F754', 'IP_RVcoll14E561', 'IP_504',\n",
       "        'IP_502', 'IF_142', 'IP_RVcoll12R048', 'IF_236', 'IF_165',\n",
       "        'IF_234', 'IF_RVcoll14B411', 'IF_RVcoll12N508', 'IF_RVcoll11F366',\n",
       "        'IF_RVcoll17B439'], dtype=object),\n",
       " 'chrPloidies': array([[1, 2, 1, 2, 2, 1, 2, 2, 2, 2, 1, 1, 2, 2],\n",
       "        [2, 2, 2, 2, 2, 2, 2, 2, 2, 2, 2, 2, 2, 2]]),\n",
       " 'chrNames': array(['iphiclides_podalirius.IP_504.v2_0.chromosome_Z',\n",
       "        'iphiclides_podalirius.IP_504.v2_0.chromosome_2'], dtype=object),\n",
       " 'posByChr': [array([      13,       17,       18, ..., 21051786, 21051791, 21051807]),\n",
       "  array([      70,      125,      422, ..., 17990025, 17990125, 17990191])],\n",
       " 'chrLengths': array([21051824, 17990613]),\n",
       " 'MapBC': [array([6.17523688e-07, 8.07530977e-07, 8.55032799e-07, ...,\n",
       "         9.99998195e-01, 9.99998432e-01, 9.99999192e-01]),\n",
       "  array([3.89091800e-06, 6.94806786e-06, 2.34566771e-05, ...,\n",
       "         9.99967316e-01, 9.99972875e-01, 9.99976543e-01])],\n",
       " 'HIs': None,\n",
       " 'initialPolByChr': None,\n",
       " 'PolByChr': None,\n",
       " 'DIByChr': None,\n",
       " 'SupportByChr': None,\n",
       " 'threshold': None,\n",
       " 'smoothScale': None,\n",
       " 'contigMatrix': None,\n",
       " 'siteExclusionsByChr': [None,\n",
       "  array([   0,    1,    2, ..., 9997, 9998, 9999])],\n",
       " 'indExclusions': array(['IP_RVcoll14E561', 'IP_504'], dtype=object)}"
      ]
     },
     "execution_count": 33,
     "metadata": {},
     "output_type": "execute_result"
    }
   ],
   "source": [
    "dRawWithExclusions = dRawInput.copy()\n",
    "dRawWithExclusions.indExclusions = dRawInput.indNames[2:4]\n",
    "dRawWithExclusions.siteExclusionsByChr = [ None, np.arange(10_000)]\n",
    "dRawWithExclusions.__dict__"
   ]
  },
  {
   "cell_type": "markdown",
   "id": "b4fc47ff-611d-490c-9605-0626f21acd09",
   "metadata": {
    "editable": true,
    "slideshow": {
     "slide_type": ""
    },
    "tags": []
   },
   "source": [
    "Now, we polarize this new diemtype instance that has exclusions using 4 cores in parallel (and using the 'test' polarity for initialization)"
   ]
  },
  {
   "cell_type": "code",
   "execution_count": 34,
   "id": "70c0818e-ccd7-42dc-82bf-d7b8cb27d81b",
   "metadata": {
    "editable": true,
    "slideshow": {
     "slide_type": ""
    },
    "tags": []
   },
   "outputs": [
    {
     "name": "stdout",
     "output_type": "stream",
     "text": [
      "convert state matrix to Marray\n",
      "initializing test polarity\n",
      "running EM algorithm in parallel using diem_parallel with  4  cores\n",
      "starting\n",
      "using  4  CPUs\n",
      "iteration  0   num 0 polarity =  453158   num 1 polarity =  453157\n",
      "time to flip:  1.3787598609924316\n",
      "iteration  1   num 0 polarity =  511593   num 1 polarity =  394722\n",
      "time to flip:  0.9093177318572998\n",
      "iteration  2   num 0 polarity =  572671   num 1 polarity =  333644\n",
      "time to flip:  0.9148244857788086\n",
      "iteration  3   num 0 polarity =  576885   num 1 polarity =  329430\n",
      "time to flip:  0.9144923686981201\n",
      "iteration  4   num 0 polarity =  575687   num 1 polarity =  330628\n",
      "time to flip:  0.9239621162414551\n",
      "iteration  5   num 0 polarity =  575696   num 1 polarity =  330619\n",
      "time to flip:  0.933218240737915\n",
      "iteration  6   num 0 polarity =  575695   num 1 polarity =  330620\n",
      "time to flip:  0.9382271766662598\n",
      "polarity found\n",
      "polarity found\n",
      "updating polarizations, DIs, Supports, initialPolarity,and state matrices\n"
     ]
    }
   ],
   "source": [
    "dAdvancedPolTest = dRawWithExclusions.polarize(boolTestData = True,ncores=4)"
   ]
  },
  {
   "cell_type": "code",
   "execution_count": 35,
   "id": "bd1b8eb9-9a4a-453e-813e-c637fbef52ff",
   "metadata": {
    "editable": true,
    "slideshow": {
     "slide_type": ""
    },
    "tags": []
   },
   "outputs": [
    {
     "data": {
      "image/png": "[encoded data removed]",
      "text/plain": [
       "<Figure size 1600x400 with 1 Axes>"
      ]
     },
     "metadata": {},
     "output_type": "display_data"
    }
   ],
   "source": [
    "diem.utils.plot_painting(dAdvancedPolTest.DMBC[1])"
   ]
  },
  {
   "cell_type": "code",
   "execution_count": null,
   "id": "228d1f1f-cf64-4e13-9c6e-310aa3c44864",
   "metadata": {},
   "outputs": [],
   "source": []
  }
 ],
 "metadata": {
  "kernelspec": {
   "display_name": "Python 3 (ipykernel)",
   "language": "python",
   "name": "python3"
  },
  "language_info": {
   "codemirror_mode": {
    "name": "ipython",
    "version": 3
   },
   "file_extension": ".py",
   "mimetype": "text/x-python",
   "name": "python",
   "nbconvert_exporter": "python",
   "pygments_lexer": "ipython3",
   "version": "3.13.5"
  }
 },
 "nbformat": 4,
 "nbformat_minor": 5
}
