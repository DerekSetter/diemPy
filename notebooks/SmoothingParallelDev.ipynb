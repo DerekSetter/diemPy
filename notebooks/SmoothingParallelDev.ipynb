{
 "cells": [
  {
   "cell_type": "code",
   "execution_count": 213,
   "id": "50d2172f-abfc-4a89-8397-731b59d77dce",
   "metadata": {},
   "outputs": [
    {
     "name": "stdout",
     "output_type": "stream",
     "text": [
      "The autoreload extension is already loaded. To reload it, use:\n",
      "  %reload_ext autoreload\n"
     ]
    }
   ],
   "source": [
    "%load_ext autoreload\n",
    "%autoreload 2\n",
    "    \n",
    "import time\n",
    "import os\n",
    "import multiprocessing\n",
    "import numpy as np\n",
    "import pandas as pd\n",
    "import csv\n",
    "import matplotlib.pyplot as plt\n",
    "np.set_printoptions(legacy = '1.25')\n",
    "\n",
    "import diem"
   ]
  },
  {
   "cell_type": "code",
   "execution_count": 148,
   "id": "88a720ed-40f4-4155-a65c-c77c6b36e212",
   "metadata": {},
   "outputs": [],
   "source": [
    "dt = diem.diemtype.load_DiemType('../tests/test_data/thresholded_solution.DiemType.dict.pkl')"
   ]
  },
  {
   "cell_type": "code",
   "execution_count": null,
   "id": "e1df21b0-cb93-429f-b5f6-9a55d39c4d68",
   "metadata": {},
   "outputs": [],
   "source": []
  },
  {
   "cell_type": "code",
   "execution_count": 180,
   "id": "42f1490c-f4d4-4fc6-ae2e-687975bbad8f",
   "metadata": {},
   "outputs": [
    {
     "data": {
      "text/plain": [
       "array([[2, 1, 1, ..., 1, 1, 1],\n",
       "       [1, 1, 1, ..., 1, 1, 1],\n",
       "       [2, 1, 1, ..., 1, 1, 1],\n",
       "       ...,\n",
       "       [3, 3, 3, ..., 3, 3, 3],\n",
       "       [3, 3, 3, ..., 0, 3, 3],\n",
       "       [3, 3, 2, ..., 3, 3, 3]])"
      ]
     },
     "execution_count": 180,
     "metadata": {},
     "output_type": "execute_result"
    }
   ],
   "source": [
    "testPosArray = dt.MapBC[0][0:]\n",
    "testValArray = dt.DMBC[0][:,0:]\n",
    "testPosArray\n",
    "testValArray"
   ]
  },
  {
   "cell_type": "code",
   "execution_count": 192,
   "id": "183ec85e-7122-4b60-9aea-8a246ec72df9",
   "metadata": {},
   "outputs": [
    {
     "name": "stdout",
     "output_type": "stream",
     "text": [
      "time in seconds 33.98866510391235\n"
     ]
    }
   ],
   "source": [
    "start = time.time()\n",
    "testSmoothed = diem.smooth.laplace_smooth_multiple_haplotypes(testPosArray,testValArray,1e-3)\n",
    "print('time in seconds', time.time() - start)"
   ]
  },
  {
   "cell_type": "code",
   "execution_count": 193,
   "id": "c158191e-c4ae-4059-bce7-8cb6e6b0af6a",
   "metadata": {},
   "outputs": [
    {
     "name": "stdout",
     "output_type": "stream",
     "text": [
      "time in seconds 59.2814359664917\n"
     ]
    }
   ],
   "source": [
    "start = time.time()\n",
    "testSmoothedParallel = diem.smooth.laplace_smooth_multiple_haplotypes_parallel(testPosArray,testValArray,5e-3)\n",
    "print('time in seconds', time.time() - start)"
   ]
  },
  {
   "cell_type": "code",
   "execution_count": 186,
   "id": "ee12d7f5-8f31-4d8a-8ba9-42cc0eec9e82",
   "metadata": {},
   "outputs": [
    {
     "data": {
      "text/plain": [
       "146138"
      ]
     },
     "execution_count": 186,
     "metadata": {},
     "output_type": "execute_result"
    }
   ],
   "source": [
    "np.sum(testValArray != testSmoothed)"
   ]
  },
  {
   "cell_type": "code",
   "execution_count": 187,
   "id": "91025061-5aec-4d57-acf9-35d67efd320d",
   "metadata": {},
   "outputs": [
    {
     "data": {
      "text/plain": [
       "0"
      ]
     },
     "execution_count": 187,
     "metadata": {},
     "output_type": "execute_result"
    }
   ],
   "source": [
    "np.sum(testSmoothed != testSmoothedParallel)"
   ]
  },
  {
   "cell_type": "code",
   "execution_count": 221,
   "id": "97425aa7-938e-424e-9467-260d280485e0",
   "metadata": {},
   "outputs": [],
   "source": [
    "dSmoothedSolution = diem.diemtype.load_DiemType('../tests/test_data/smoothed_solution.DiemType.dict.pkl')\n",
    "dContigSolution = diem.diemtype.load_DiemType('../tests/test_data/contig_solution.DiemType.dict.pkl')\n",
    "dPolarizedSolution = diem.diemtype.load_DiemType('../tests/test_data/polarized_solution.DiemType.dict.pkl')\n"
   ]
  },
  {
   "cell_type": "code",
   "execution_count": 226,
   "id": "181470ae-5f50-4283-a748-deb640bd7917",
   "metadata": {},
   "outputs": [
    {
     "name": "stdout",
     "output_type": "stream",
     "text": [
      "contig matrix created and stored in self.contigMatrix\n",
      "1.833364725112915\n"
     ]
    }
   ],
   "source": [
    "dcSerial = dSmoothedSolution.copy()\n",
    "start = time.time()\n",
    "dcSerial.create_contig_matrix()\n",
    "print(time.time() - start)\n",
    "#diem.tests.compare_contig_matrices(dcSerial.contigMatrix,dContigSolution.contigMatrix)"
   ]
  },
  {
   "cell_type": "code",
   "execution_count": 227,
   "id": "b022cc39-5a80-4129-85d7-75228d4eb29b",
   "metadata": {},
   "outputs": [
    {
     "data": {
      "text/plain": [
       "True"
      ]
     },
     "execution_count": 227,
     "metadata": {},
     "output_type": "execute_result"
    }
   ],
   "source": [
    "diem.tests.compare_contig_matrices(dContigSolution.contigMatrix,dcSerial.contigMatrix)"
   ]
  },
  {
   "cell_type": "code",
   "execution_count": 216,
   "id": "6f3dba7e-12f6-48c9-885c-299242e62fa8",
   "metadata": {},
   "outputs": [
    {
     "name": "stdout",
     "output_type": "stream",
     "text": [
      "creating contig matrix using parallel processing\n",
      "number of cores 8\n",
      "contig matrix created and stored in self.contigMatrix\n",
      "2.647735834121704\n"
     ]
    }
   ],
   "source": [
    "dcParallel = dThresholdedSolution.copy()\n",
    "start = time.time()\n",
    "dcParallel.create_contig_matrix()\n",
    "print(time.time() - start)"
   ]
  },
  {
   "cell_type": "code",
   "execution_count": 199,
   "id": "6e5cc7b1-09a0-4039-8998-914b09851b2d",
   "metadata": {},
   "outputs": [
    {
     "data": {
      "text/plain": [
       "True"
      ]
     },
     "execution_count": 199,
     "metadata": {},
     "output_type": "execute_result"
    }
   ],
   "source": [
    "diem.tests.compare_contig_matrices(dcParallel.contigMatrix,dContigSolution.contigMatrix)"
   ]
  },
  {
   "cell_type": "code",
   "execution_count": 200,
   "id": "56174125-42a9-4b86-bf2e-eda7044ff7b9",
   "metadata": {},
   "outputs": [
    {
     "name": "stdout",
     "output_type": "stream",
     "text": [
      "Now checking list attributes\n",
      "checking DMBC\n",
      "checking PolByChr\n",
      "checking DIByChr\n",
      "checking SupportByChr\n",
      "checking posByChr\n",
      "checking MapBC\n",
      "checking chrPloidies\n",
      "checking initialPolByChr\n",
      "Now checking non-list attributes\n",
      "Now checking float attributes\n",
      "now checking individual exclusions\n",
      "now checking site exclusions\n",
      "now checking contigMatrix attribute\n",
      "All tests passed!\n"
     ]
    }
   ],
   "source": [
    "diem.tests.compare_DiemTypes(dcParallel,dcSerial)"
   ]
  },
  {
   "cell_type": "code",
   "execution_count": 219,
   "id": "69ab9517-1dca-44e8-84b1-f8aa730dfd71",
   "metadata": {},
   "outputs": [
    {
     "name": "stdout",
     "output_type": "stream",
     "text": [
      "creating contig matrix using serial processing\n",
      "contig matrix created and stored in self.contigMatrix\n",
      "10.292856454849243\n"
     ]
    }
   ],
   "source": [
    "dcSerial = dPolarizedSolution.copy()\n",
    "start = time.time()\n",
    "dcSerial.create_contig_matrix(ncores=1)\n",
    "print(time.time() - start)\n",
    "#diem.tests.compare_contig_matrices(dcSerial.contigMatrix,dContigSolution.contigMatrix)"
   ]
  },
  {
   "cell_type": "code",
   "execution_count": 220,
   "id": "28882309-48ea-4aa1-b226-8899bef89b73",
   "metadata": {},
   "outputs": [
    {
     "name": "stdout",
     "output_type": "stream",
     "text": [
      "creating contig matrix using parallel processing\n",
      "number of cores 4\n",
      "contig matrix created and stored in self.contigMatrix\n",
      "18.05091094970703\n"
     ]
    }
   ],
   "source": [
    "dcSerial = dPolarizedSolution.copy()\n",
    "start = time.time()\n",
    "dcSerial.create_contig_matrix(ncores=4)\n",
    "print(time.time() - start)\n",
    "#diem.tests.compare_contig_matrices(dcSerial.contigMatrix,dContigSolution.contigMatrix)"
   ]
  },
  {
   "cell_type": "code",
   "execution_count": null,
   "id": "6b1a78d0-8651-4369-b850-b9450b6ffb31",
   "metadata": {},
   "outputs": [],
   "source": []
  }
 ],
 "metadata": {
  "kernelspec": {
   "display_name": "Python 3 (ipykernel)",
   "language": "python",
   "name": "python3"
  },
  "language_info": {
   "codemirror_mode": {
    "name": "ipython",
    "version": 3
   },
   "file_extension": ".py",
   "mimetype": "text/x-python",
   "name": "python",
   "nbconvert_exporter": "python",
   "pygments_lexer": "ipython3",
   "version": "3.13.5"
  }
 },
 "nbformat": 4,
 "nbformat_minor": 5
}
