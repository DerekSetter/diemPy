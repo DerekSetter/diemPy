{
 "cells": [
  {
   "cell_type": "code",
   "execution_count": null,
   "id": "81651366-e688-42da-bc7b-8bd47ce737c7",
   "metadata": {},
   "outputs": [],
   "source": [
    "%load_ext autoreload\n",
    "%autoreload 2\n",
    "import numpy as np\n",
    "import pandas as pd\n"
   ]
  },
  {
   "cell_type": "code",
   "execution_count": 3,
   "id": "e98c156e",
   "metadata": {},
   "outputs": [],
   "source": [
    "from diem.io import read_diem_bed\n",
    "from diem.io import write_polarized_bed\n",
    "from diem import diemtype as dt"
   ]
  },
  {
   "cell_type": "code",
   "execution_count": 4,
   "id": "efe8b53c",
   "metadata": {},
   "outputs": [],
   "source": [
    "bedIn = '/home/derek/Dropbox/methods/diempy_example_data/CM001010.3_variants.vcf.diem_input.bed'\n",
    "metaIn = '/home/derek/Dropbox/methods/diempy_example_data/CM001010.3_variants.vcf.diem_meta.bed'\n",
    "bedOut = '/home/derek/Dropbox/methods/diempy_example_data/CM001010.3_variants.vcf.diem_output.bed'\n",
    "d = read_diem_bed(bedIn,metaIn)"
   ]
  },
  {
   "cell_type": "markdown",
   "id": "db76a8e4",
   "metadata": {},
   "source": [
    "When polarizing a diemtypeobject, it RETURNS a POLARIZED COPY"
   ]
  },
  {
   "cell_type": "code",
   "execution_count": 5,
   "id": "1ce7cf94",
   "metadata": {},
   "outputs": [
    {
     "name": "stdout",
     "output_type": "stream",
     "text": [
      "convert state matrix to Marray\n",
      "initializing test polarity\n",
      "running EM algorithm in parallel using diem_parallel with  3  cores\n",
      "starting\n",
      "using  3  CPUs\n",
      "iteration  0   num 0 polarity =  480698   num 1 polarity =  480697\n",
      "time to flip:  1.30495285987854\n",
      "iteration  1   num 0 polarity =  254073   num 1 polarity =  707322\n",
      "time to flip:  1.1472415924072266\n",
      "iteration  2   num 0 polarity =  246685   num 1 polarity =  714710\n",
      "time to flip:  1.0958716869354248\n",
      "iteration  3   num 0 polarity =  240551   num 1 polarity =  720844\n",
      "time to flip:  1.0415661334991455\n",
      "iteration  4   num 0 polarity =  237606   num 1 polarity =  723789\n",
      "time to flip:  1.0077171325683594\n",
      "iteration  5   num 0 polarity =  236900   num 1 polarity =  724495\n",
      "time to flip:  1.0618605613708496\n",
      "iteration  6   num 0 polarity =  236889   num 1 polarity =  724506\n",
      "time to flip:  1.058382272720337\n",
      "iteration  7   num 0 polarity =  236904   num 1 polarity =  724491\n",
      "time to flip:  0.8183643817901611\n",
      "iteration  8   num 0 polarity =  236900   num 1 polarity =  724495\n",
      "time to flip:  0.9872994422912598\n",
      "polarity found\n",
      "polarity found\n",
      "updating polarizations, DIs, Supports, initialPolarity,and state matrices\n"
     ]
    }
   ],
   "source": [
    "dPol = d.polarize(ncores = 3,boolTestData=True)"
   ]
  },
  {
   "cell_type": "markdown",
   "id": "a60ec859",
   "metadata": {},
   "source": [
    "This is a (currently slow way) to output that polarization information to an output.bed file.  It reads in the original, appends the additional columns, then writes it all out again.\n",
    "\n",
    "This makes it easy because even if we have somehow resorted the individuals by hybrid index, that has no effect on the output file. It also means we keep all the state information that is removed (that is, converted to '_' or 0 state internal to diemtype object)"
   ]
  },
  {
   "cell_type": "code",
   "execution_count": 6,
   "id": "9e45b7ba",
   "metadata": {},
   "outputs": [],
   "source": [
    "write_polarized_bed(bedIn,bedOut,dPol)"
   ]
  },
  {
   "cell_type": "markdown",
   "id": "a3a62cf5",
   "metadata": {},
   "source": [
    "Thresholding RETURNS A COPY of the diemtype object with sites removed that are below threshold"
   ]
  },
  {
   "cell_type": "code",
   "execution_count": null,
   "id": "ae4c44cd",
   "metadata": {},
   "outputs": [
    {
     "name": "stdout",
     "output_type": "stream",
     "text": [
      "proportion of each chromosome retained after thresholding:\n",
      "[np.float64(0.8675965654075588)]\n",
      "thresholding done\n",
      "hybrid indices have likely changed, but have not been updated\n",
      "to update HIs without re-sorting, update the attribute a.HIs = a.computeHIs()\n",
      "You may also call the sort() method on the resulting data if you wish to both re-compute and resort\n"
     ]
    }
   ],
   "source": [
    "dThresh = dPol.apply_threshold(-20)\n"
   ]
  },
  {
   "cell_type": "markdown",
   "id": "f14b6da4",
   "metadata": {},
   "source": [
    "SORTING IS DONE IN-PLACE\n",
    "meaning that the diemtypeobject itself is sorted. Nothing is returned.\n",
    "To obtain a sorted *copy* you must first copy it then sort as follows:"
   ]
  },
  {
   "cell_type": "code",
   "execution_count": 11,
   "id": "a49d9640",
   "metadata": {},
   "outputs": [
    {
     "name": "stdout",
     "output_type": "stream",
     "text": [
      "new HIs computer and individuals resorted by HI\n"
     ]
    }
   ],
   "source": [
    "dSorted = dThresh.copy()\n",
    "dSorted.sort()"
   ]
  },
  {
   "cell_type": "markdown",
   "id": "ba4b2212",
   "metadata": {},
   "source": [
    "Smoothing RETURNS A COPY"
   ]
  },
  {
   "cell_type": "code",
   "execution_count": 13,
   "id": "b7776e2d",
   "metadata": {},
   "outputs": [
    {
     "name": "stdout",
     "output_type": "stream",
     "text": [
      "smoothing the data with scale  0.0001\n",
      "using parallel smoothing\n",
      "smoothing done, but not resorting by HI. You may call the sort() method on the resulting data if you wish to resort\n"
     ]
    }
   ],
   "source": [
    "dSmoothed = dSorted.smooth(1e-4,parallel=True)"
   ]
  },
  {
   "cell_type": "markdown",
   "id": "03c8f2f3",
   "metadata": {},
   "source": [
    "Constructing contigs adds this information to the diemtype objects\n",
    "Meaning that it DOES NOT RETURN A COPY\n"
   ]
  },
  {
   "cell_type": "code",
   "execution_count": null,
   "id": "a2219420",
   "metadata": {},
   "outputs": [
    {
     "name": "stdout",
     "output_type": "stream",
     "text": [
      "contig matrix created and stored in self.contigMatrix\n"
     ]
    }
   ],
   "source": [
    "dSmoothed.create_contig_matrix()"
   ]
  },
  {
   "cell_type": "markdown",
   "id": "c850116e",
   "metadata": {},
   "source": [
    "We provide a path to a *folder* where we want the intervals information to be written to individual-specific bed files. "
   ]
  },
  {
   "cell_type": "code",
   "execution_count": 17,
   "id": "9f487d93",
   "metadata": {},
   "outputs": [
    {
     "name": "stdout",
     "output_type": "stream",
     "text": [
      "BED files created in directory:  /home/derek/Dropbox/methods/diempy_example_data/CM001010_intervals/\n"
     ]
    }
   ],
   "source": [
    "outIntervalsFolder = '/home/derek/Dropbox/methods/diempy_example_data/CM001010_intervals/'\n",
    "dSmoothed.intervals_to_bed(outIntervalsFolder)"
   ]
  }
 ],
 "metadata": {
  "kernelspec": {
   "display_name": "diemdev",
   "language": "python",
   "name": "python3"
  },
  "language_info": {
   "codemirror_mode": {
    "name": "ipython",
    "version": 3
   },
   "file_extension": ".py",
   "mimetype": "text/x-python",
   "name": "python",
   "nbconvert_exporter": "python",
   "pygments_lexer": "ipython3",
   "version": "3.13.5"
  }
 },
 "nbformat": 4,
 "nbformat_minor": 5
}
