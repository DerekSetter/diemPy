{
 "cells": [
  {
   "cell_type": "code",
   "execution_count": 126,
   "id": "81651366-e688-42da-bc7b-8bd47ce737c7",
   "metadata": {},
   "outputs": [
    {
     "name": "stdout",
     "output_type": "stream",
     "text": [
      "The autoreload extension is already loaded. To reload it, use:\n",
      "  %reload_ext autoreload\n"
     ]
    }
   ],
   "source": [
    "%load_ext autoreload\n",
    "%autoreload 2\n",
    "import numpy as np\n",
    "import pandas as pd\n"
   ]
  },
  {
   "cell_type": "code",
   "execution_count": 127,
   "id": "e98c156e",
   "metadata": {},
   "outputs": [],
   "source": [
    "from diem.io import read_diem_bed\n",
    "from diem.io import write_polarized_bed\n",
    "from diem import diemtype as dt"
   ]
  },
  {
   "cell_type": "code",
   "execution_count": 128,
   "id": "efe8b53c",
   "metadata": {},
   "outputs": [
    {
     "data": {
      "text/plain": [
       "{'DMBC': [array([[3, 3, 3, ..., 3, 3, 0],\n",
       "         [1, 1, 1, ..., 1, 1, 0],\n",
       "         [3, 3, 3, ..., 2, 3, 0],\n",
       "         ...,\n",
       "         [3, 3, 3, ..., 3, 3, 3],\n",
       "         [3, 3, 3, ..., 2, 3, 0],\n",
       "         [1, 1, 1, ..., 1, 1, 1]], shape=(10, 961395), dtype=int8)],\n",
       " 'indNames': array(['swn', 'pgn', 'msm2013', 'njl', 'jf1', 'hmi', 'chd', 'blg2', 'kjr',\n",
       "        'bfm'], dtype=object),\n",
       " 'chrPloidies': [array([2, 2, 2, 2, 2, 2, 2, 2, 2, 2])],\n",
       " 'chrNames': array(['CM001010.3'], dtype=object),\n",
       " 'posByChr': [array([ 3050186,  3050775,  3051166, ..., 95194214, 95194318, 95194506],\n",
       "        shape=(961395,))],\n",
       " 'chrLengths': array([95294699]),\n",
       " 'MapBC': [array([0.03200793, 0.03201411, 0.03201821, ..., 0.99894553, 0.99894663,\n",
       "         0.9989486 ], shape=(961395,))],\n",
       " 'HIs': None,\n",
       " 'initialPolByChr': None,\n",
       " 'PolByChr': None,\n",
       " 'DIByChr': None,\n",
       " 'SupportByChr': None,\n",
       " 'threshold': None,\n",
       " 'smoothScale': None,\n",
       " 'contigMatrix': None,\n",
       " 'siteExclusionsByChr': None,\n",
       " 'indExclusions': None}"
      ]
     },
     "execution_count": 128,
     "metadata": {},
     "output_type": "execute_result"
    }
   ],
   "source": [
    "bedIn = '/home/derek/Dropbox/methods/diempy_example_data/CM001010.3_variants.vcf.diem_input.bed'\n",
    "metaIn = '/home/derek/Dropbox/methods/diempy_example_data/CM001010.3_variants.vcf.diem_meta.bed'\n",
    "bedOut = '/home/derek/Dropbox/methods/diempy_example_data/CM001010.3_variants.vcf.diem_output.bed'\n",
    "d = read_diem_bed(bedIn,metaIn)\n",
    "d.__dict__"
   ]
  },
  {
   "cell_type": "markdown",
   "id": "db76a8e4",
   "metadata": {},
   "source": [
    "When polarizing a diemtypeobject, it RETURNS a POLARIZED COPY"
   ]
  },
  {
   "cell_type": "code",
   "execution_count": 65,
   "id": "6e8d6435",
   "metadata": {},
   "outputs": [],
   "source": [
    "d.add_individual_exclusions('/home/derek/Dropbox/methods/diempy_example_data/example_individual_exclusions.txt')"
   ]
  },
  {
   "cell_type": "code",
   "execution_count": 66,
   "id": "72c9d282",
   "metadata": {},
   "outputs": [],
   "source": [
    "d.add_site_exclusions('/home/derek/Dropbox/methods/diempy_example_data/example_site_exclusions.bed')"
   ]
  },
  {
   "cell_type": "code",
   "execution_count": 67,
   "id": "b8828e72",
   "metadata": {},
   "outputs": [
    {
     "data": {
      "text/plain": [
       "array(['hmi', 'chd'], dtype='<U3')"
      ]
     },
     "execution_count": 67,
     "metadata": {},
     "output_type": "execute_result"
    }
   ],
   "source": [
    "d.indExclusions"
   ]
  },
  {
   "cell_type": "code",
   "execution_count": 69,
   "id": "1ce7cf94",
   "metadata": {},
   "outputs": [
    {
     "name": "stdout",
     "output_type": "stream",
     "text": [
      "convert state matrix to Marray\n",
      "initializing test polarity\n",
      "running EM algorithm in parallel using diem_parallel with  3  cores\n",
      "starting\n",
      "using  3  CPUs\n",
      "iteration  0   num 0 polarity =  480698   num 1 polarity =  480697\n",
      "time to flip:  0.7352495193481445\n",
      "iteration  1   num 0 polarity =  304481   num 1 polarity =  656914\n",
      "time to flip:  0.6320908069610596\n",
      "iteration  2   num 0 polarity =  189243   num 1 polarity =  772152\n",
      "time to flip:  0.6594803333282471\n",
      "iteration  3   num 0 polarity =  224186   num 1 polarity =  737209\n",
      "time to flip:  0.6737701892852783\n",
      "iteration  4   num 0 polarity =  225401   num 1 polarity =  735994\n",
      "time to flip:  0.6149616241455078\n",
      "iteration  5   num 0 polarity =  225468   num 1 polarity =  735927\n",
      "time to flip:  0.6682751178741455\n",
      "iteration  6   num 0 polarity =  225473   num 1 polarity =  735922\n",
      "time to flip:  0.6419596672058105\n",
      "polarity found\n",
      "polarity found\n",
      "updating polarizations, DIs, Supports, initialPolarity,and state matrices\n"
     ]
    }
   ],
   "source": [
    "dPol = d.polarize(ncores = 3,boolTestData=True)"
   ]
  },
  {
   "cell_type": "markdown",
   "id": "a60ec859",
   "metadata": {},
   "source": [
    "This is a (currently slow way) to output that polarization information to an output.bed file.  It reads in the original, appends the additional columns, then writes it all out again.\n",
    "\n",
    "This makes it easy because even if we have somehow resorted the individuals by hybrid index, that has no effect on the output file. It also means we keep all the state information that is removed (that is, converted to '_' or 0 state internal to diemtype object)"
   ]
  },
  {
   "cell_type": "code",
   "execution_count": 73,
   "id": "9e45b7ba",
   "metadata": {},
   "outputs": [],
   "source": [
    "write_polarized_bed(bedIn,bedOut,dPol)"
   ]
  },
  {
   "cell_type": "markdown",
   "id": "afad00e7",
   "metadata": {},
   "source": [
    "We now want to check that we can correctly read in the polarized output version of the diem_bed file"
   ]
  },
  {
   "cell_type": "code",
   "execution_count": 116,
   "id": "20226931",
   "metadata": {},
   "outputs": [],
   "source": [
    "dPolInTest = read_diem_bed(bedOut,metaIn)"
   ]
  },
  {
   "cell_type": "markdown",
   "id": "93686d2c",
   "metadata": {},
   "source": [
    "Most attributes are fine, as you can see in the comparison below.\n",
    "1. The HIs are not stored, but can calculated again on import easy-peasy\n",
    "2. DIByChr and SupportByChr are only off by a rounding of the last digit. should be easily fixed"
   ]
  },
  {
   "cell_type": "code",
   "execution_count": 121,
   "id": "ed26b7f1",
   "metadata": {},
   "outputs": [
    {
     "name": "stdout",
     "output_type": "stream",
     "text": [
      "Now checking list attributes\n",
      "checking DMBC\n",
      "checking PolByChr\n",
      "checking DIByChr\n",
      "Attribute  DIByChr  differs for chromosome  0\n",
      "checking SupportByChr\n",
      "Attribute  SupportByChr  differs for chromosome  0\n",
      "checking posByChr\n",
      "checking MapBC\n",
      "checking chrPloidies\n",
      "checking initialPolByChr\n",
      "Now checking non-list attributes\n",
      "Attribute  HIs  differs (one is None, the other is not)\n",
      "Now checking float attributes\n",
      "now checking individual exclusions\n",
      "now checking site exclusions\n",
      "previous attributes failed, so skipping contigMatrix check\n",
      "The following attributes differed:  ['DIByChr', 'SupportByChr', 'HIs']\n"
     ]
    }
   ],
   "source": [
    "from diem.tests import compare_DiemTypes\n",
    "compare_DiemTypes(dPol,dPolInTest)"
   ]
  },
  {
   "cell_type": "code",
   "execution_count": 124,
   "id": "7bf61db4",
   "metadata": {},
   "outputs": [
    {
     "name": "stdout",
     "output_type": "stream",
     "text": [
      "-0.37666822243435244 -0.3766682224343524\n"
     ]
    }
   ],
   "source": [
    "print(\n",
    "    dPol.DIByChr[0][0],\n",
    "    dPolInTest.DIByChr[0][0]\n",
    ")"
   ]
  },
  {
   "cell_type": "markdown",
   "id": "a3a62cf5",
   "metadata": {},
   "source": [
    "Thresholding RETURNS A COPY of the diemtype object with sites removed that are below threshold"
   ]
  },
  {
   "cell_type": "code",
   "execution_count": null,
   "id": "ae4c44cd",
   "metadata": {},
   "outputs": [
    {
     "name": "stdout",
     "output_type": "stream",
     "text": [
      "proportion of each chromosome retained after thresholding:\n",
      "[np.float64(0.8675965654075588)]\n",
      "thresholding done\n",
      "hybrid indices have likely changed, but have not been updated\n",
      "to update HIs without re-sorting, update the attribute a.HIs = a.computeHIs()\n",
      "You may also call the sort() method on the resulting data if you wish to both re-compute and resort\n"
     ]
    }
   ],
   "source": [
    "dThresh = dPol.apply_threshold(-20)\n"
   ]
  },
  {
   "cell_type": "markdown",
   "id": "f14b6da4",
   "metadata": {},
   "source": [
    "SORTING IS DONE IN-PLACE\n",
    "meaning that the diemtypeobject itself is sorted. Nothing is returned.\n",
    "To obtain a sorted *copy* you must first copy it then sort as follows:"
   ]
  },
  {
   "cell_type": "code",
   "execution_count": 11,
   "id": "a49d9640",
   "metadata": {},
   "outputs": [
    {
     "name": "stdout",
     "output_type": "stream",
     "text": [
      "new HIs computer and individuals resorted by HI\n"
     ]
    }
   ],
   "source": [
    "dSorted = dThresh.copy()\n",
    "dSorted.sort()"
   ]
  },
  {
   "cell_type": "markdown",
   "id": "ba4b2212",
   "metadata": {},
   "source": [
    "Smoothing RETURNS A COPY"
   ]
  },
  {
   "cell_type": "code",
   "execution_count": 13,
   "id": "b7776e2d",
   "metadata": {},
   "outputs": [
    {
     "name": "stdout",
     "output_type": "stream",
     "text": [
      "smoothing the data with scale  0.0001\n",
      "using parallel smoothing\n",
      "smoothing done, but not resorting by HI. You may call the sort() method on the resulting data if you wish to resort\n"
     ]
    }
   ],
   "source": [
    "dSmoothed = dSorted.smooth(1e-4,parallel=True)"
   ]
  },
  {
   "cell_type": "markdown",
   "id": "03c8f2f3",
   "metadata": {},
   "source": [
    "Constructing contigs adds this information to the diemtype objects\n",
    "Meaning that it DOES NOT RETURN A COPY\n"
   ]
  },
  {
   "cell_type": "code",
   "execution_count": null,
   "id": "a2219420",
   "metadata": {},
   "outputs": [
    {
     "name": "stdout",
     "output_type": "stream",
     "text": [
      "contig matrix created and stored in self.contigMatrix\n"
     ]
    }
   ],
   "source": [
    "dSmoothed.create_contig_matrix()"
   ]
  },
  {
   "cell_type": "markdown",
   "id": "c850116e",
   "metadata": {},
   "source": [
    "We provide a path to a *folder* where we want the intervals information to be written to individual-specific bed files. "
   ]
  },
  {
   "cell_type": "code",
   "execution_count": 17,
   "id": "9f487d93",
   "metadata": {},
   "outputs": [
    {
     "name": "stdout",
     "output_type": "stream",
     "text": [
      "BED files created in directory:  /home/derek/Dropbox/methods/diempy_example_data/CM001010_intervals/\n"
     ]
    }
   ],
   "source": [
    "outIntervalsFolder = '/home/derek/Dropbox/methods/diempy_example_data/CM001010_intervals/'\n",
    "dSmoothed.intervals_to_bed(outIntervalsFolder)"
   ]
  }
 ],
 "metadata": {
  "kernelspec": {
   "display_name": "diemdev",
   "language": "python",
   "name": "python3"
  },
  "language_info": {
   "codemirror_mode": {
    "name": "ipython",
    "version": 3
   },
   "file_extension": ".py",
   "mimetype": "text/x-python",
   "name": "python",
   "nbconvert_exporter": "python",
   "pygments_lexer": "ipython3",
   "version": "3.13.5"
  }
 },
 "nbformat": 4,
 "nbformat_minor": 5
}
