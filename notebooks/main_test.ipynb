{
 "cells": [
  {
   "cell_type": "code",
   "execution_count": 1,
   "id": "81651366-e688-42da-bc7b-8bd47ce737c7",
   "metadata": {},
   "outputs": [],
   "source": [
    "%load_ext autoreload\n",
    "%autoreload 2\n",
    "# %load_ext line_profiler\n",
    "# %load_ext memory_profile\n",
    "import numpy as np\n",
    "import pandas as pd\n",
    "import time\n",
    "import copy\n",
    "import pickle"
   ]
  },
  {
   "cell_type": "code",
   "execution_count": 2,
   "id": "116f2158-9acc-49bc-b1ed-8d86fbd7b335",
   "metadata": {},
   "outputs": [],
   "source": [
    "import diem.polarize as pol\n",
    "import diem.tests as tests\n",
    "from diem.diemtype import DiemType, import_raw_test_data, new_import_raw_test_data\n",
    "from diem.diemtype import save_DiemType, load_DiemType"
   ]
  },
  {
   "cell_type": "code",
   "execution_count": 3,
   "id": "0538796b-c062-4104-be2e-40750086cd02",
   "metadata": {},
   "outputs": [],
   "source": [
    "from diem.contigs import Contig, Interval, get_intervals, build_contig_matrix"
   ]
  },
  {
   "cell_type": "code",
   "execution_count": 4,
   "id": "d515ea73-9116-48c2-9c12-4bd4b3c8fdfd",
   "metadata": {},
   "outputs": [],
   "source": [
    "from diem.utils import plot_painting\n",
    "from diem.diemtype import flip_polarity"
   ]
  },
  {
   "cell_type": "markdown",
   "id": "87ffab31-02e5-423a-9aee-857cb3d32a4c",
   "metadata": {},
   "source": [
    "## quick checks of i) Data import, ii) Polarization on test initialization iii) thresholding of that dataset and iii) smoothing of thresholded data"
   ]
  },
  {
   "cell_type": "markdown",
   "id": "1aaa6aa6-f963-42ae-bbf7-1713b15b8315",
   "metadata": {},
   "source": [
    "**check data importing**\n",
    "\n",
    "The test data importing is all defined, file by file, in the 'import_raw_test_data()' function"
   ]
  },
  {
   "cell_type": "code",
   "execution_count": 73,
   "id": "011e4d7c-878b-471b-9701-ae6178955a02",
   "metadata": {},
   "outputs": [],
   "source": [
    "#### CAREFUL! uncomment the following and it will over-write the current 'solutions' for testing.\n",
    "#### Do this ONLY when (i) the DiemType class name has been changed or (ii) an attribute NAME has changed, or additional attributes are needed in the test.\n",
    "#### for (ii), the test data is stored at dictionaries, so an 'updated' DiemType with additional attributes can still import 'older' versions\n",
    "#### and the attributes are strictly defined so as longas both test objects have those attributes the test functions will work.  \n",
    "\n",
    "# dInputSolution = new_import_raw_test_data()\n",
    "# dPolarizedSolution = dInputSolution.polarize(boolTestData=True)\n",
    "# dSortedSolution = dPolarizedSolution.copy()\n",
    "# dSortedSolution.sort()\n",
    "# dThresholdedSolution = dSortedSolution.apply_threshold(-20)\n",
    "# dSmoothedSolution = dThresholdedSolution.smooth(1e-4)\n",
    "# dContigSolution = dSmoothedSolution.copy()\n",
    "# dContigSolution.create_contig_matrix()\n",
    "\n",
    "# save_DiemType(dInputSolution,'../tests/test_data/input_solution.DiemType.dict.pkl')\n",
    "# save_DiemType(dPolarizedSolution,'../tests/test_data/polarized_solution.DiemType.dict.pkl')\n",
    "# save_DiemType(dSortedSolution,'../tests/test_data/sorted_solution.DiemType.dict.pkl')\n",
    "# save_DiemType(dThresholdedSolution,'../tests/test_data/thresholded_solution.DiemType.dict.pkl')\n",
    "# save_DiemType(dSmoothedSolution,'../tests/test_data/smoothed_solution.DiemType.dict.pkl')\n",
    "# save_DiemType(dContigSolution, '../tests/test_data/contig_solution.DiemType.dict.pkl')"
   ]
  },
  {
   "cell_type": "code",
   "execution_count": 5,
   "id": "1a302f7f-4051-4859-ac0a-093f13ddd1fd",
   "metadata": {},
   "outputs": [],
   "source": [
    "\n",
    "#### importing the DiemType instances used for testing modifications to the code\n",
    "dInputSolution = load_DiemType('../tests/test_data/input_solution.DiemType.dict.pkl')\n",
    "dPolarizedSolution = load_DiemType('../tests/test_data/polarized_solution.DiemType.dict.pkl')\n",
    "dSortedSolution = load_DiemType('../tests/test_data/sorted_solution.DiemType.dict.pkl')\n",
    "dThresholdedSolution = load_DiemType('../tests/test_data/thresholded_solution.DiemType.dict.pkl')\n",
    "dSmoothedSolution = load_DiemType('../tests/test_data/smoothed_solution.DiemType.dict.pkl')\n",
    "dContigSolution = load_DiemType('../tests/test_data/contig_solution.DiemType.dict.pkl')\n",
    "\n",
    "# plot_painting(dInputSolution.DMBC[0])\n",
    "# plot_painting(dPolarizedSolution.DMBC[0])\n",
    "# plot_painting(dSortedSolution.DMBC[0])\n",
    "# plot_painting(dThresholdedSolution.DMBC[0])\n",
    "# plot_painting(dSmoothedSolution.DMBC[0])"
   ]
  },
  {
   "cell_type": "markdown",
   "id": "8767f864-a1e3-4dc0-8bf7-79c29f0c0f3d",
   "metadata": {},
   "source": [
    "**checking input of data from 'new format' files**"
   ]
  },
  {
   "cell_type": "code",
   "execution_count": 9,
   "id": "2fb5468c-a6fe-4bcd-9eb2-11d56148fadb",
   "metadata": {},
   "outputs": [],
   "source": [
    "dInputTestNewFormatData = new_import_raw_test_data()"
   ]
  },
  {
   "cell_type": "code",
   "execution_count": 10,
   "id": "0890cbd9-67e0-4858-81e5-14ebfb467414",
   "metadata": {},
   "outputs": [
    {
     "name": "stdout",
     "output_type": "stream",
     "text": [
      "Now checking list attributes\n",
      "checking DMBC\n",
      "checking PolByChr\n",
      "checking DIByChr\n",
      "checking SupportByChr\n",
      "checking posByChr\n",
      "checking MapBC\n",
      "checking chrPloidies\n",
      "checking initialPolByChr\n",
      "Now checking non-list attributes\n",
      "Now checking float attributes\n",
      "now checking individual exclusions\n",
      "now checking site exclusions\n",
      "now checking contigMatrix attribute\n",
      "All tests passed!\n"
     ]
    }
   ],
   "source": [
    "tests.compare_DiemTypes(dInputTestNewFormatData,dInputTestNewFormatData)"
   ]
  },
  {
   "cell_type": "markdown",
   "id": "3f0ac9e9-cf9e-407c-b59b-659a3f4c4047",
   "metadata": {},
   "source": [
    "**checking polarization of the *correctly* imported or read-in diplotypeobject**"
   ]
  },
  {
   "cell_type": "code",
   "execution_count": 11,
   "id": "e69b4d83-aa03-4d2e-81a5-cdb97d105bdc",
   "metadata": {
    "editable": true,
    "slideshow": {
     "slide_type": ""
    },
    "tags": []
   },
   "outputs": [
    {
     "name": "stdout",
     "output_type": "stream",
     "text": [
      "convert state matrix to Marray\n",
      "initializing test polarity\n",
      "running EM algorithm on a single core using diem_linear\n",
      "starting\n",
      " num individuals in MBC is  14\n",
      "iteration  0   num 0 polarity =  453158   num 1 polarity =  453157\n",
      "time for iteration in seconds:  3.949525833129883\n",
      "iteration  1   num 0 polarity =  585141   num 1 polarity =  321174\n",
      "time for iteration in seconds:  3.4656484127044678\n",
      "iteration  2   num 0 polarity =  628702   num 1 polarity =  277613\n",
      "time for iteration in seconds:  3.5893170833587646\n",
      "iteration  3   num 0 polarity =  630008   num 1 polarity =  276307\n",
      "time for iteration in seconds:  3.4902594089508057\n",
      "iteration  4   num 0 polarity =  630170   num 1 polarity =  276145\n",
      "time for iteration in seconds:  3.8516223430633545\n",
      "iteration  5   num 0 polarity =  630196   num 1 polarity =  276119\n",
      "time for iteration in seconds:  3.6648755073547363\n",
      "iteration  6   num 0 polarity =  630193   num 1 polarity =  276122\n",
      "polarity found\n",
      "time for iteration in seconds:  3.6563847064971924\n",
      "polarity found\n",
      "updating polarizations, DIs, Supports, initialPolarity,and state matrices\n"
     ]
    }
   ],
   "source": [
    "dPolarizedTest = dInputSolution.polarize(boolTestData=True) #note that I use the dInputSOLUTION so that we are sure the tests are run on the right data"
   ]
  },
  {
   "cell_type": "code",
   "execution_count": 12,
   "id": "439a2b0f-8149-465b-b7bb-9545331a2b16",
   "metadata": {},
   "outputs": [
    {
     "name": "stdout",
     "output_type": "stream",
     "text": [
      "Now checking list attributes\n",
      "checking DMBC\n",
      "checking PolByChr\n",
      "checking DIByChr\n",
      "checking SupportByChr\n",
      "checking posByChr\n",
      "checking MapBC\n",
      "checking chrPloidies\n",
      "checking initialPolByChr\n",
      "Attribute  initialPolByChr  differs (one is None, the other is not)\n",
      "Now checking non-list attributes\n",
      "Attribute  HIs  differs (one is None, the other is not)\n",
      "Now checking float attributes\n",
      "now checking individual exclusions\n",
      "now checking site exclusions\n",
      "previous attributes failed, so skipping contigMatrix check\n",
      "The following attributes differed:  ['initialPolByChr', 'HIs']\n"
     ]
    }
   ],
   "source": [
    "tests.compare_DiemTypes(dPolarizedTest,dPolarizedSolution)"
   ]
  },
  {
   "cell_type": "code",
   "execution_count": 13,
   "id": "5e4539bb-352a-4d4b-b9fd-f8003243f60b",
   "metadata": {},
   "outputs": [
    {
     "name": "stdout",
     "output_type": "stream",
     "text": [
      "convert state matrix to Marray\n",
      "initializing test polarity\n",
      "running EM algorithm in parallel using diem_parallel with  3  cores\n",
      "starting\n",
      "using  3  CPUs\n",
      "iteration  0   num 0 polarity =  453158   num 1 polarity =  453157\n",
      "time to flip:  1.4071629047393799\n",
      "iteration  1   num 0 polarity =  585141   num 1 polarity =  321174\n",
      "time to flip:  1.1684553623199463\n",
      "iteration  2   num 0 polarity =  628702   num 1 polarity =  277613\n",
      "time to flip:  1.2260680198669434\n",
      "iteration  3   num 0 polarity =  630008   num 1 polarity =  276307\n",
      "time to flip:  1.1465766429901123\n",
      "iteration  4   num 0 polarity =  630170   num 1 polarity =  276145\n",
      "time to flip:  1.4002537727355957\n",
      "iteration  5   num 0 polarity =  630196   num 1 polarity =  276119\n",
      "time to flip:  1.2174413204193115\n",
      "iteration  6   num 0 polarity =  630193   num 1 polarity =  276122\n",
      "time to flip:  1.2383661270141602\n",
      "polarity found\n",
      "polarity found\n",
      "updating polarizations, DIs, Supports, initialPolarity,and state matrices\n"
     ]
    }
   ],
   "source": [
    "dPolarizedTestParallel = dInputSolution.polarize(boolTestData=True,ncores=3) #note that I use the dInputSOLUTION so that we are sure the tests are run on the right data"
   ]
  },
  {
   "cell_type": "code",
   "execution_count": 14,
   "id": "0e2d961a-3913-49e4-8f43-cae8ea532fde",
   "metadata": {},
   "outputs": [
    {
     "name": "stdout",
     "output_type": "stream",
     "text": [
      "Now checking list attributes\n",
      "checking DMBC\n",
      "checking PolByChr\n",
      "checking DIByChr\n",
      "checking SupportByChr\n",
      "checking posByChr\n",
      "checking MapBC\n",
      "checking chrPloidies\n",
      "checking initialPolByChr\n",
      "Attribute  initialPolByChr  differs (one is None, the other is not)\n",
      "Now checking non-list attributes\n",
      "Attribute  HIs  differs (one is None, the other is not)\n",
      "Now checking float attributes\n",
      "now checking individual exclusions\n",
      "now checking site exclusions\n",
      "previous attributes failed, so skipping contigMatrix check\n",
      "The following attributes differed:  ['initialPolByChr', 'HIs']\n"
     ]
    }
   ],
   "source": [
    "tests.compare_DiemTypes(dPolarizedTestParallel,dPolarizedSolution)"
   ]
  },
  {
   "cell_type": "markdown",
   "id": "340456fd-1a69-419f-b2d8-5ff35e426126",
   "metadata": {},
   "source": [
    "**checking the sort function**"
   ]
  },
  {
   "cell_type": "code",
   "execution_count": 17,
   "id": "edfda51d",
   "metadata": {},
   "outputs": [
    {
     "data": {
      "text/plain": [
       "array([[2, 1, 2, 2, 1, 2, 2, 2, 2, 2, 1, 1, 2, 1],\n",
       "       [2, 2, 2, 2, 2, 2, 2, 2, 2, 2, 2, 2, 2, 2]])"
      ]
     },
     "execution_count": 17,
     "metadata": {},
     "output_type": "execute_result"
    }
   ],
   "source": [
    "dSortedTest.chrPloidies"
   ]
  },
  {
   "cell_type": "code",
   "execution_count": 18,
   "id": "1bff1990",
   "metadata": {},
   "outputs": [
    {
     "data": {
      "text/plain": [
       "array([[1, 2, 1, 2, 2, 1, 2, 2, 2, 2, 1, 1, 2, 2],\n",
       "       [2, 2, 2, 2, 2, 2, 2, 2, 2, 2, 2, 2, 2, 2]])"
      ]
     },
     "execution_count": 18,
     "metadata": {},
     "output_type": "execute_result"
    }
   ],
   "source": [
    "dSortedSolution.chrPloidies"
   ]
  },
  {
   "cell_type": "code",
   "execution_count": 16,
   "id": "4ed9af1b-43ae-4f67-abc6-dd853a7d5ee9",
   "metadata": {},
   "outputs": [
    {
     "name": "stdout",
     "output_type": "stream",
     "text": [
      "new HIs computer and individuals resorted by HI\n",
      "Now checking list attributes\n",
      "checking DMBC\n",
      "checking PolByChr\n",
      "checking DIByChr\n",
      "checking SupportByChr\n",
      "checking posByChr\n",
      "checking MapBC\n",
      "checking chrPloidies\n",
      "Attribute  chrPloidies  differs for chromosome  0\n",
      "checking initialPolByChr\n",
      "Now checking non-list attributes\n",
      "Now checking float attributes\n",
      "now checking individual exclusions\n",
      "now checking site exclusions\n",
      "previous attributes failed, so skipping contigMatrix check\n",
      "The following attributes differed:  ['chrPloidies']\n"
     ]
    }
   ],
   "source": [
    "dSortedTest = dPolarizedSolution.copy()\n",
    "dSortedTest.sort()\n",
    "tests.compare_DiemTypes(dSortedTest,dSortedSolution)"
   ]
  },
  {
   "cell_type": "markdown",
   "id": "15807301-0152-43d1-92c4-5a13a2d89429",
   "metadata": {},
   "source": [
    "**checking the thresholding of the *correctly* imported or read-in diplotype object**\n"
   ]
  },
  {
   "cell_type": "code",
   "execution_count": 22,
   "id": "cdfaea48-a4dd-4306-8fb2-6f8e90b2d228",
   "metadata": {},
   "outputs": [
    {
     "name": "stdout",
     "output_type": "stream",
     "text": [
      "proportion of each chromosome retained after thresholding:\n",
      "[np.float64(0.49810460543643115), np.float64(0.4922365573263625)]\n",
      "thresholding done\n",
      "hybrid indices have likely changed, but have not been updated\n",
      "to update HIs without re-sorting, update the attribute a.HIs = a.computeHIs()\n",
      "You may also call the sort() method on the resulting data if you wish to both re-compute and resort\n"
     ]
    }
   ],
   "source": [
    "dThresholdedTest = dSortedSolution.apply_threshold(-20)"
   ]
  },
  {
   "cell_type": "code",
   "execution_count": 23,
   "id": "f6a7c01e-2375-4ddd-80d7-162567f5cb25",
   "metadata": {},
   "outputs": [
    {
     "name": "stdout",
     "output_type": "stream",
     "text": [
      "Now checking list attributes\n",
      "checking DMBC\n",
      "checking PolByChr\n",
      "checking DIByChr\n",
      "checking SupportByChr\n",
      "checking posByChr\n",
      "checking MapBC\n",
      "checking chrPloidies\n",
      "checking initialPolByChr\n",
      "Now checking non-list attributes\n",
      "Now checking float attributes\n",
      "now checking individual exclusions\n",
      "now checking site exclusions\n",
      "now checking contigMatrix attribute\n",
      "All tests passed!\n"
     ]
    }
   ],
   "source": [
    "tests.compare_DiemTypes(dThresholdedTest,dThresholdedSolution)"
   ]
  },
  {
   "cell_type": "markdown",
   "id": "9d4505f0-9457-4c6a-b5dc-9c763bb4963f",
   "metadata": {},
   "source": [
    "**checking smoothing function**"
   ]
  },
  {
   "cell_type": "code",
   "execution_count": 10,
   "id": "d4efaabb-7421-423d-a8af-58264c443d8b",
   "metadata": {},
   "outputs": [
    {
     "name": "stdout",
     "output_type": "stream",
     "text": [
      "smoothing the data with scale  0.0001\n",
      "using parallel smoothing\n",
      "smoothing done, but not resorting by HI. You may call the sort() method on the resulting data if you wish to resort\n",
      "Now checking list attributes\n",
      "checking DMBC\n",
      "checking PolByChr\n",
      "checking DIByChr\n",
      "checking SupportByChr\n",
      "checking posByChr\n",
      "checking MapBC\n",
      "checking chrPloidies\n",
      "checking initialPolByChr\n",
      "Now checking non-list attributes\n",
      "Now checking float attributes\n",
      "now checking individual exclusions\n",
      "now checking site exclusions\n",
      "now checking contigMatrix attribute\n",
      "All tests passed!\n"
     ]
    }
   ],
   "source": [
    "dSmoothedTest = dThresholdedSolution.smooth(1e-4)\n",
    "tests.compare_DiemTypes(dSmoothedTest,dSmoothedSolution)"
   ]
  },
  {
   "cell_type": "code",
   "execution_count": null,
   "id": "33edfca7-99f8-4b0b-a221-de76e03fa13e",
   "metadata": {},
   "outputs": [],
   "source": []
  },
  {
   "cell_type": "markdown",
   "id": "8ef97d55-e9da-4fdf-92ef-b39b20f37de8",
   "metadata": {},
   "source": [
    "**checking the contig creationg function**"
   ]
  },
  {
   "cell_type": "code",
   "execution_count": 50,
   "id": "f827cce0-ba44-445d-8f1a-57cffdd331b2",
   "metadata": {},
   "outputs": [
    {
     "name": "stdout",
     "output_type": "stream",
     "text": [
      "contig matrix created and stored in self.contigMatrix\n"
     ]
    }
   ],
   "source": [
    "dContigTest = dSmoothedSolution.copy()\n",
    "dContigTest.create_contig_matrix()"
   ]
  },
  {
   "cell_type": "code",
   "execution_count": 51,
   "id": "32b7dc31-4e30-4bf0-bca2-26e3774a88fe",
   "metadata": {},
   "outputs": [
    {
     "name": "stdout",
     "output_type": "stream",
     "text": [
      "Now checking list attributes\n",
      "checking DMBC\n",
      "checking PolByChr\n",
      "checking DIByChr\n",
      "checking SupportByChr\n",
      "checking posByChr\n",
      "checking MapBC\n",
      "checking chrPloidies\n",
      "checking initialPolByChr\n",
      "Now checking non-list attributes\n",
      "Now checking float attributes\n",
      "now checking individual exclusions\n",
      "now checking site exclusions\n",
      "now checking contigMatrix attribute\n",
      "All tests passed!\n"
     ]
    }
   ],
   "source": [
    "tests.compare_DiemTypes(dContigTest,dContigSolution)"
   ]
  },
  {
   "cell_type": "code",
   "execution_count": null,
   "id": "88b44375",
   "metadata": {},
   "outputs": [],
   "source": []
  },
  {
   "cell_type": "code",
   "execution_count": null,
   "id": "b411ba79",
   "metadata": {},
   "outputs": [],
   "source": []
  },
  {
   "cell_type": "markdown",
   "id": "ffdad807",
   "metadata": {},
   "source": [
    "# exporting contigs to bed file"
   ]
  },
  {
   "cell_type": "code",
   "execution_count": 53,
   "id": "9da58446",
   "metadata": {},
   "outputs": [
    {
     "name": "stdout",
     "output_type": "stream",
     "text": [
      "BED files created in directory:  /home/derek/git/diemPy/example_data/contig_output\n"
     ]
    }
   ],
   "source": [
    "outputDir = '/home/derek/git/diemPy/example_data/contig_output'\n",
    "dContigSolution.intervals_to_bed(outputDir)"
   ]
  },
  {
   "cell_type": "code",
   "execution_count": 54,
   "id": "d075e933",
   "metadata": {},
   "outputs": [],
   "source": [
    "from pympler import asizeof"
   ]
  },
  {
   "cell_type": "code",
   "execution_count": 55,
   "id": "325d395c",
   "metadata": {},
   "outputs": [
    {
     "name": "stdout",
     "output_type": "stream",
     "text": [
      "131.25335693359375\n",
      "131.25357055664062\n"
     ]
    }
   ],
   "source": [
    "size = asizeof.asizeof(dSmoothedSolution)\n",
    "print(size/1024/1024)\n",
    "\n",
    "size = asizeof.asizeof(dContigSolution)\n",
    "print(size/1024/1024)"
   ]
  },
  {
   "cell_type": "code",
   "execution_count": 56,
   "id": "ab447ca7",
   "metadata": {},
   "outputs": [
    {
     "name": "stdout",
     "output_type": "stream",
     "text": [
      "contig matrix created and stored in self.contigMatrix\n"
     ]
    }
   ],
   "source": [
    "dTest = dSmoothedSolution.copy()\n",
    "dTest.create_contig_matrix()"
   ]
  },
  {
   "cell_type": "code",
   "execution_count": 60,
   "id": "6fe4924a",
   "metadata": {},
   "outputs": [
    {
     "name": "stdout",
     "output_type": "stream",
     "text": [
      "contig matrix created and stored in self.contigMatrix\n",
      "65.62639617919922\n"
     ]
    }
   ],
   "source": [
    "dTest = dThresholdedSolution.copy()\n",
    "dTest.create_contig_matrix()\n",
    "size = asizeof.asizeof(dTest)\n",
    "print(size/1024/1024)  # in MBb\n"
   ]
  },
  {
   "cell_type": "code",
   "execution_count": 61,
   "id": "69b14c52",
   "metadata": {},
   "outputs": [
    {
     "name": "stdout",
     "output_type": "stream",
     "text": [
      "contig matrix created and stored in self.contigMatrix\n",
      "65.62641906738281\n"
     ]
    }
   ],
   "source": [
    "dTest = dSmoothedSolution.copy()\n",
    "dTest.create_contig_matrix()\n",
    "size = asizeof.asizeof(dTest)\n",
    "print(size/1024/1024)  # in MB"
   ]
  },
  {
   "cell_type": "code",
   "execution_count": 62,
   "id": "69dfddd3",
   "metadata": {},
   "outputs": [
    {
     "name": "stdout",
     "output_type": "stream",
     "text": [
      "contig matrix created and stored in self.contigMatrix\n",
      "125.33002471923828\n"
     ]
    }
   ],
   "source": [
    "dTest = dPolarizedSolution.copy()\n",
    "dTest.create_contig_matrix()\n",
    "size = asizeof.asizeof(dTest)\n",
    "print(size/1024/1024)  # in MB"
   ]
  },
  {
   "cell_type": "code",
   "execution_count": 58,
   "id": "2eed065c",
   "metadata": {},
   "outputs": [
    {
     "name": "stdout",
     "output_type": "stream",
     "text": [
      "Now checking list attributes\n",
      "checking DMBC\n",
      "checking PolByChr\n",
      "checking DIByChr\n",
      "checking SupportByChr\n",
      "checking posByChr\n",
      "checking MapBC\n",
      "checking chrPloidies\n",
      "checking initialPolByChr\n",
      "Now checking non-list attributes\n",
      "Now checking float attributes\n",
      "now checking individual exclusions\n",
      "now checking site exclusions\n",
      "now checking contigMatrix attribute\n",
      "All tests passed!\n"
     ]
    }
   ],
   "source": [
    "tests.compare_DiemTypes(dTest,dContigSolution)"
   ]
  },
  {
   "cell_type": "code",
   "execution_count": 64,
   "id": "d6e7b424",
   "metadata": {},
   "outputs": [],
   "source": [
    "testMList = [pol.stateMatrix_to_MArray(x) for x in dInputSolution.DMBC]\n"
   ]
  },
  {
   "cell_type": "code",
   "execution_count": 65,
   "id": "48bf7399",
   "metadata": {},
   "outputs": [
    {
     "name": "stdout",
     "output_type": "stream",
     "text": [
      "48.40254211425781\n"
     ]
    }
   ],
   "source": [
    "size = asizeof.asizeof(testMList)\n",
    "print(size/1024/1024)  # in MB"
   ]
  },
  {
   "cell_type": "code",
   "execution_count": 69,
   "id": "d49b7956",
   "metadata": {},
   "outputs": [
    {
     "data": {
      "text/plain": [
       "12.100610733032227"
      ]
     },
     "execution_count": 69,
     "metadata": {},
     "output_type": "execute_result"
    }
   ],
   "source": [
    "sum([np.size(x) for x in dInputSolution.DMBC])/1024/1024  # in MB"
   ]
  },
  {
   "cell_type": "code",
   "execution_count": 82,
   "id": "6af88709",
   "metadata": {},
   "outputs": [
    {
     "data": {
      "text/plain": [
       "np.float64(12100.610733032227)"
      ]
     },
     "execution_count": 82,
     "metadata": {},
     "output_type": "execute_result"
    }
   ],
   "source": [
    "nSites = [np.size(x) for x in dInputSolution.DMBC]\n",
    "np.sum(nSites)/1024/1024*100*10"
   ]
  },
  {
   "cell_type": "code",
   "execution_count": 77,
   "id": "5a8a6eab",
   "metadata": {},
   "outputs": [
    {
     "data": {
      "text/plain": [
       "array([550545, 355770])"
      ]
     },
     "execution_count": 77,
     "metadata": {},
     "output_type": "execute_result"
    }
   ],
   "source": [
    "nInds = len(dInputSolution.indNames)\n",
    "nSitesByChr = np.array([len(x[0]) for x in dInputSolution.DMBC])\n",
    "nSitesByChr"
   ]
  },
  {
   "cell_type": "code",
   "execution_count": 81,
   "id": "f26d4a99",
   "metadata": {},
   "outputs": [
    {
     "data": {
      "text/plain": [
       "np.int64(12688410)"
      ]
     },
     "execution_count": 81,
     "metadata": {},
     "output_type": "execute_result"
    }
   ],
   "source": [
    "sum(nInds*nSitesByChr)"
   ]
  },
  {
   "cell_type": "code",
   "execution_count": null,
   "id": "ea27621b",
   "metadata": {},
   "outputs": [],
   "source": []
  }
 ],
 "metadata": {
  "kernelspec": {
   "display_name": "diemdev",
   "language": "python",
   "name": "python3"
  },
  "language_info": {
   "codemirror_mode": {
    "name": "ipython",
    "version": 3
   },
   "file_extension": ".py",
   "mimetype": "text/x-python",
   "name": "python",
   "nbconvert_exporter": "python",
   "pygments_lexer": "ipython3",
   "version": "3.13.5"
  }
 },
 "nbformat": 4,
 "nbformat_minor": 5
}
