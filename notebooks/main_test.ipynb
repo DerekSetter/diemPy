{
 "cells": [
  {
   "cell_type": "code",
   "execution_count": 153,
   "id": "81651366-e688-42da-bc7b-8bd47ce737c7",
   "metadata": {},
   "outputs": [
    {
     "name": "stdout",
     "output_type": "stream",
     "text": [
      "The autoreload extension is already loaded. To reload it, use:\n",
      "  %reload_ext autoreload\n"
     ]
    }
   ],
   "source": [
    "%load_ext autoreload\n",
    "%autoreload 2\n",
    "# %load_ext line_profiler\n",
    "# %load_ext memory_profile\n",
    "import numpy as np\n",
    "import pandas as pd\n",
    "import time\n",
    "import copy\n",
    "import pickle"
   ]
  },
  {
   "cell_type": "code",
   "execution_count": 154,
   "id": "116f2158-9acc-49bc-b1ed-8d86fbd7b335",
   "metadata": {},
   "outputs": [],
   "source": [
    "import diem.polarize as pol\n",
    "import diem.tests as tests\n",
    "from diem.diemtype import DiemType, import_raw_test_data, new_import_raw_test_data\n",
    "from diem.diemtype import save_DiemType, load_DiemType"
   ]
  },
  {
   "cell_type": "code",
   "execution_count": 155,
   "id": "0538796b-c062-4104-be2e-40750086cd02",
   "metadata": {},
   "outputs": [],
   "source": [
    "from diem.contigs import Contig, Interval, get_intervals, build_contig_matrix"
   ]
  },
  {
   "cell_type": "code",
   "execution_count": 156,
   "id": "d515ea73-9116-48c2-9c12-4bd4b3c8fdfd",
   "metadata": {},
   "outputs": [],
   "source": [
    "from diem.utils import plot_painting\n",
    "from diem.diemtype import flip_polarity"
   ]
  },
  {
   "cell_type": "markdown",
   "id": "87ffab31-02e5-423a-9aee-857cb3d32a4c",
   "metadata": {},
   "source": [
    "## quick checks of i) Data import, ii) Polarization on test initialization iii) thresholding of that dataset and iii) smoothing of thresholded data"
   ]
  },
  {
   "cell_type": "markdown",
   "id": "1aaa6aa6-f963-42ae-bbf7-1713b15b8315",
   "metadata": {},
   "source": [
    "**check data importing**\n",
    "\n",
    "The test data importing is all defined, file by file, in the 'import_raw_test_data()' function"
   ]
  },
  {
   "cell_type": "code",
   "execution_count": 73,
   "id": "011e4d7c-878b-471b-9701-ae6178955a02",
   "metadata": {},
   "outputs": [],
   "source": [
    "#### CAREFUL! uncomment the following and it will over-write the current 'solutions' for testing.\n",
    "#### Do this ONLY when (i) the DiemType class name has been changed or (ii) an attribute NAME has changed, or additional attributes are needed in the test.\n",
    "#### for (ii), the test data is stored at dictionaries, so an 'updated' DiemType with additional attributes can still import 'older' versions\n",
    "#### and the attributes are strictly defined so as longas both test objects have those attributes the test functions will work.  \n",
    "\n",
    "# dInputSolution = new_import_raw_test_data()\n",
    "# dPolarizedSolution = dInputSolution.polarize(boolTestData=True)\n",
    "# dSortedSolution = dPolarizedSolution.copy()\n",
    "# dSortedSolution.sort()\n",
    "# dThresholdedSolution = dSortedSolution.apply_threshold(-20)\n",
    "# dSmoothedSolution = dThresholdedSolution.smooth(1e-4)\n",
    "# dContigSolution = dSmoothedSolution.copy()\n",
    "# dContigSolution.create_contig_matrix()\n",
    "\n",
    "# save_DiemType(dInputSolution,'../tests/test_data/input_solution.DiemType.dict.pkl')\n",
    "# save_DiemType(dPolarizedSolution,'../tests/test_data/polarized_solution.DiemType.dict.pkl')\n",
    "# save_DiemType(dSortedSolution,'../tests/test_data/sorted_solution.DiemType.dict.pkl')\n",
    "# save_DiemType(dThresholdedSolution,'../tests/test_data/thresholded_solution.DiemType.dict.pkl')\n",
    "# save_DiemType(dSmoothedSolution,'../tests/test_data/smoothed_solution.DiemType.dict.pkl')\n",
    "# save_DiemType(dContigSolution, '../tests/test_data/contig_solution.DiemType.dict.pkl')"
   ]
  },
  {
   "cell_type": "code",
   "execution_count": 157,
   "id": "1a302f7f-4051-4859-ac0a-093f13ddd1fd",
   "metadata": {},
   "outputs": [],
   "source": [
    "\n",
    "#### importing the DiemType instances used for testing modifications to the code\n",
    "dInputSolution = load_DiemType('../tests/test_data/input_solution.DiemType.dict.pkl')\n",
    "dPolarizedSolution = load_DiemType('../tests/test_data/polarized_solution.DiemType.dict.pkl')\n",
    "dSortedSolution = load_DiemType('../tests/test_data/sorted_solution.DiemType.dict.pkl')\n",
    "dThresholdedSolution = load_DiemType('../tests/test_data/thresholded_solution.DiemType.dict.pkl')\n",
    "dSmoothedSolution = load_DiemType('../tests/test_data/smoothed_solution.DiemType.dict.pkl')\n",
    "dContigSolution = load_DiemType('../tests/test_data/contig_solution.DiemType.dict.pkl')\n",
    "\n",
    "# plot_painting(dInputSolution.DMBC[0])\n",
    "# plot_painting(dPolarizedSolution.DMBC[0])\n",
    "# plot_painting(dSortedSolution.DMBC[0])\n",
    "# plot_painting(dThresholdedSolution.DMBC[0])\n",
    "# plot_painting(dSmoothedSolution.DMBC[0])"
   ]
  },
  {
   "cell_type": "markdown",
   "id": "8767f864-a1e3-4dc0-8bf7-79c29f0c0f3d",
   "metadata": {},
   "source": [
    "**checking input of data from 'new format' files**"
   ]
  },
  {
   "cell_type": "code",
   "execution_count": 9,
   "id": "2fb5468c-a6fe-4bcd-9eb2-11d56148fadb",
   "metadata": {},
   "outputs": [],
   "source": [
    "dInputTestNewFormatData = new_import_raw_test_data()"
   ]
  },
  {
   "cell_type": "code",
   "execution_count": 10,
   "id": "0890cbd9-67e0-4858-81e5-14ebfb467414",
   "metadata": {},
   "outputs": [
    {
     "name": "stdout",
     "output_type": "stream",
     "text": [
      "Now checking list attributes\n",
      "checking DMBC\n",
      "checking PolByChr\n",
      "checking DIByChr\n",
      "checking SupportByChr\n",
      "checking posByChr\n",
      "checking MapBC\n",
      "checking chrPloidies\n",
      "checking initialPolByChr\n",
      "Now checking non-list attributes\n",
      "Now checking float attributes\n",
      "now checking individual exclusions\n",
      "now checking site exclusions\n",
      "now checking contigMatrix attribute\n",
      "All tests passed!\n"
     ]
    }
   ],
   "source": [
    "tests.compare_DiemTypes(dInputTestNewFormatData,dInputTestNewFormatData)"
   ]
  },
  {
   "cell_type": "markdown",
   "id": "3f0ac9e9-cf9e-407c-b59b-659a3f4c4047",
   "metadata": {},
   "source": [
    "**checking polarization of the *correctly* imported or read-in diplotypeobject**"
   ]
  },
  {
   "cell_type": "code",
   "execution_count": 11,
   "id": "e69b4d83-aa03-4d2e-81a5-cdb97d105bdc",
   "metadata": {
    "editable": true,
    "slideshow": {
     "slide_type": ""
    },
    "tags": []
   },
   "outputs": [
    {
     "name": "stdout",
     "output_type": "stream",
     "text": [
      "convert state matrix to Marray\n",
      "initializing test polarity\n",
      "running EM algorithm on a single core using diem_linear\n",
      "starting\n",
      " num individuals in MBC is  14\n",
      "iteration  0   num 0 polarity =  453158   num 1 polarity =  453157\n",
      "time for iteration in seconds:  3.949525833129883\n",
      "iteration  1   num 0 polarity =  585141   num 1 polarity =  321174\n",
      "time for iteration in seconds:  3.4656484127044678\n",
      "iteration  2   num 0 polarity =  628702   num 1 polarity =  277613\n",
      "time for iteration in seconds:  3.5893170833587646\n",
      "iteration  3   num 0 polarity =  630008   num 1 polarity =  276307\n",
      "time for iteration in seconds:  3.4902594089508057\n",
      "iteration  4   num 0 polarity =  630170   num 1 polarity =  276145\n",
      "time for iteration in seconds:  3.8516223430633545\n",
      "iteration  5   num 0 polarity =  630196   num 1 polarity =  276119\n",
      "time for iteration in seconds:  3.6648755073547363\n",
      "iteration  6   num 0 polarity =  630193   num 1 polarity =  276122\n",
      "polarity found\n",
      "time for iteration in seconds:  3.6563847064971924\n",
      "polarity found\n",
      "updating polarizations, DIs, Supports, initialPolarity,and state matrices\n"
     ]
    }
   ],
   "source": [
    "dPolarizedTest = dInputSolution.polarize(boolTestData=True) #note that I use the dInputSOLUTION so that we are sure the tests are run on the right data"
   ]
  },
  {
   "cell_type": "code",
   "execution_count": 12,
   "id": "439a2b0f-8149-465b-b7bb-9545331a2b16",
   "metadata": {},
   "outputs": [
    {
     "name": "stdout",
     "output_type": "stream",
     "text": [
      "Now checking list attributes\n",
      "checking DMBC\n",
      "checking PolByChr\n",
      "checking DIByChr\n",
      "checking SupportByChr\n",
      "checking posByChr\n",
      "checking MapBC\n",
      "checking chrPloidies\n",
      "checking initialPolByChr\n",
      "Attribute  initialPolByChr  differs (one is None, the other is not)\n",
      "Now checking non-list attributes\n",
      "Attribute  HIs  differs (one is None, the other is not)\n",
      "Now checking float attributes\n",
      "now checking individual exclusions\n",
      "now checking site exclusions\n",
      "previous attributes failed, so skipping contigMatrix check\n",
      "The following attributes differed:  ['initialPolByChr', 'HIs']\n"
     ]
    }
   ],
   "source": [
    "tests.compare_DiemTypes(dPolarizedTest,dPolarizedSolution)"
   ]
  },
  {
   "cell_type": "code",
   "execution_count": 13,
   "id": "5e4539bb-352a-4d4b-b9fd-f8003243f60b",
   "metadata": {},
   "outputs": [
    {
     "name": "stdout",
     "output_type": "stream",
     "text": [
      "convert state matrix to Marray\n",
      "initializing test polarity\n",
      "running EM algorithm in parallel using diem_parallel with  3  cores\n",
      "starting\n",
      "using  3  CPUs\n",
      "iteration  0   num 0 polarity =  453158   num 1 polarity =  453157\n",
      "time to flip:  1.4071629047393799\n",
      "iteration  1   num 0 polarity =  585141   num 1 polarity =  321174\n",
      "time to flip:  1.1684553623199463\n",
      "iteration  2   num 0 polarity =  628702   num 1 polarity =  277613\n",
      "time to flip:  1.2260680198669434\n",
      "iteration  3   num 0 polarity =  630008   num 1 polarity =  276307\n",
      "time to flip:  1.1465766429901123\n",
      "iteration  4   num 0 polarity =  630170   num 1 polarity =  276145\n",
      "time to flip:  1.4002537727355957\n",
      "iteration  5   num 0 polarity =  630196   num 1 polarity =  276119\n",
      "time to flip:  1.2174413204193115\n",
      "iteration  6   num 0 polarity =  630193   num 1 polarity =  276122\n",
      "time to flip:  1.2383661270141602\n",
      "polarity found\n",
      "polarity found\n",
      "updating polarizations, DIs, Supports, initialPolarity,and state matrices\n"
     ]
    }
   ],
   "source": [
    "dPolarizedTestParallel = dInputSolution.polarize(boolTestData=True,ncores=3) #note that I use the dInputSOLUTION so that we are sure the tests are run on the right data"
   ]
  },
  {
   "cell_type": "code",
   "execution_count": 14,
   "id": "0e2d961a-3913-49e4-8f43-cae8ea532fde",
   "metadata": {},
   "outputs": [
    {
     "name": "stdout",
     "output_type": "stream",
     "text": [
      "Now checking list attributes\n",
      "checking DMBC\n",
      "checking PolByChr\n",
      "checking DIByChr\n",
      "checking SupportByChr\n",
      "checking posByChr\n",
      "checking MapBC\n",
      "checking chrPloidies\n",
      "checking initialPolByChr\n",
      "Attribute  initialPolByChr  differs (one is None, the other is not)\n",
      "Now checking non-list attributes\n",
      "Attribute  HIs  differs (one is None, the other is not)\n",
      "Now checking float attributes\n",
      "now checking individual exclusions\n",
      "now checking site exclusions\n",
      "previous attributes failed, so skipping contigMatrix check\n",
      "The following attributes differed:  ['initialPolByChr', 'HIs']\n"
     ]
    }
   ],
   "source": [
    "tests.compare_DiemTypes(dPolarizedTestParallel,dPolarizedSolution)"
   ]
  },
  {
   "cell_type": "markdown",
   "id": "340456fd-1a69-419f-b2d8-5ff35e426126",
   "metadata": {},
   "source": [
    "**checking the sort function**"
   ]
  },
  {
   "cell_type": "code",
   "execution_count": 17,
   "id": "edfda51d",
   "metadata": {},
   "outputs": [
    {
     "data": {
      "text/plain": [
       "array([[2, 1, 2, 2, 1, 2, 2, 2, 2, 2, 1, 1, 2, 1],\n",
       "       [2, 2, 2, 2, 2, 2, 2, 2, 2, 2, 2, 2, 2, 2]])"
      ]
     },
     "execution_count": 17,
     "metadata": {},
     "output_type": "execute_result"
    }
   ],
   "source": [
    "dSortedTest.chrPloidies"
   ]
  },
  {
   "cell_type": "code",
   "execution_count": 18,
   "id": "1bff1990",
   "metadata": {},
   "outputs": [
    {
     "data": {
      "text/plain": [
       "array([[1, 2, 1, 2, 2, 1, 2, 2, 2, 2, 1, 1, 2, 2],\n",
       "       [2, 2, 2, 2, 2, 2, 2, 2, 2, 2, 2, 2, 2, 2]])"
      ]
     },
     "execution_count": 18,
     "metadata": {},
     "output_type": "execute_result"
    }
   ],
   "source": [
    "dSortedSolution.chrPloidies"
   ]
  },
  {
   "cell_type": "code",
   "execution_count": 16,
   "id": "4ed9af1b-43ae-4f67-abc6-dd853a7d5ee9",
   "metadata": {},
   "outputs": [
    {
     "name": "stdout",
     "output_type": "stream",
     "text": [
      "new HIs computer and individuals resorted by HI\n",
      "Now checking list attributes\n",
      "checking DMBC\n",
      "checking PolByChr\n",
      "checking DIByChr\n",
      "checking SupportByChr\n",
      "checking posByChr\n",
      "checking MapBC\n",
      "checking chrPloidies\n",
      "Attribute  chrPloidies  differs for chromosome  0\n",
      "checking initialPolByChr\n",
      "Now checking non-list attributes\n",
      "Now checking float attributes\n",
      "now checking individual exclusions\n",
      "now checking site exclusions\n",
      "previous attributes failed, so skipping contigMatrix check\n",
      "The following attributes differed:  ['chrPloidies']\n"
     ]
    }
   ],
   "source": [
    "dSortedTest = dPolarizedSolution.copy()\n",
    "dSortedTest.sort()\n",
    "tests.compare_DiemTypes(dSortedTest,dSortedSolution)"
   ]
  },
  {
   "cell_type": "markdown",
   "id": "15807301-0152-43d1-92c4-5a13a2d89429",
   "metadata": {},
   "source": [
    "**checking the thresholding of the *correctly* imported or read-in diplotype object**\n"
   ]
  },
  {
   "cell_type": "code",
   "execution_count": 22,
   "id": "cdfaea48-a4dd-4306-8fb2-6f8e90b2d228",
   "metadata": {},
   "outputs": [
    {
     "name": "stdout",
     "output_type": "stream",
     "text": [
      "proportion of each chromosome retained after thresholding:\n",
      "[np.float64(0.49810460543643115), np.float64(0.4922365573263625)]\n",
      "thresholding done\n",
      "hybrid indices have likely changed, but have not been updated\n",
      "to update HIs without re-sorting, update the attribute a.HIs = a.computeHIs()\n",
      "You may also call the sort() method on the resulting data if you wish to both re-compute and resort\n"
     ]
    }
   ],
   "source": [
    "dThresholdedTest = dSortedSolution.apply_threshold(-20)"
   ]
  },
  {
   "cell_type": "code",
   "execution_count": 23,
   "id": "f6a7c01e-2375-4ddd-80d7-162567f5cb25",
   "metadata": {},
   "outputs": [
    {
     "name": "stdout",
     "output_type": "stream",
     "text": [
      "Now checking list attributes\n",
      "checking DMBC\n",
      "checking PolByChr\n",
      "checking DIByChr\n",
      "checking SupportByChr\n",
      "checking posByChr\n",
      "checking MapBC\n",
      "checking chrPloidies\n",
      "checking initialPolByChr\n",
      "Now checking non-list attributes\n",
      "Now checking float attributes\n",
      "now checking individual exclusions\n",
      "now checking site exclusions\n",
      "now checking contigMatrix attribute\n",
      "All tests passed!\n"
     ]
    }
   ],
   "source": [
    "tests.compare_DiemTypes(dThresholdedTest,dThresholdedSolution)"
   ]
  },
  {
   "cell_type": "markdown",
   "id": "9d4505f0-9457-4c6a-b5dc-9c763bb4963f",
   "metadata": {},
   "source": [
    "**checking smoothing function**"
   ]
  },
  {
   "cell_type": "code",
   "execution_count": 10,
   "id": "d4efaabb-7421-423d-a8af-58264c443d8b",
   "metadata": {},
   "outputs": [
    {
     "name": "stdout",
     "output_type": "stream",
     "text": [
      "smoothing the data with scale  0.0001\n",
      "using parallel smoothing\n",
      "smoothing done, but not resorting by HI. You may call the sort() method on the resulting data if you wish to resort\n",
      "Now checking list attributes\n",
      "checking DMBC\n",
      "checking PolByChr\n",
      "checking DIByChr\n",
      "checking SupportByChr\n",
      "checking posByChr\n",
      "checking MapBC\n",
      "checking chrPloidies\n",
      "checking initialPolByChr\n",
      "Now checking non-list attributes\n",
      "Now checking float attributes\n",
      "now checking individual exclusions\n",
      "now checking site exclusions\n",
      "now checking contigMatrix attribute\n",
      "All tests passed!\n"
     ]
    }
   ],
   "source": [
    "dSmoothedTest = dThresholdedSolution.smooth(1e-4)\n",
    "tests.compare_DiemTypes(dSmoothedTest,dSmoothedSolution)"
   ]
  },
  {
   "cell_type": "code",
   "execution_count": null,
   "id": "33edfca7-99f8-4b0b-a221-de76e03fa13e",
   "metadata": {},
   "outputs": [],
   "source": []
  },
  {
   "cell_type": "markdown",
   "id": "8ef97d55-e9da-4fdf-92ef-b39b20f37de8",
   "metadata": {},
   "source": [
    "**checking the contig creationg function**"
   ]
  },
  {
   "cell_type": "code",
   "execution_count": 50,
   "id": "f827cce0-ba44-445d-8f1a-57cffdd331b2",
   "metadata": {},
   "outputs": [
    {
     "name": "stdout",
     "output_type": "stream",
     "text": [
      "contig matrix created and stored in self.contigMatrix\n"
     ]
    }
   ],
   "source": [
    "dContigTest = dSmoothedSolution.copy()\n",
    "dContigTest.create_contig_matrix()"
   ]
  },
  {
   "cell_type": "code",
   "execution_count": 51,
   "id": "32b7dc31-4e30-4bf0-bca2-26e3774a88fe",
   "metadata": {},
   "outputs": [
    {
     "name": "stdout",
     "output_type": "stream",
     "text": [
      "Now checking list attributes\n",
      "checking DMBC\n",
      "checking PolByChr\n",
      "checking DIByChr\n",
      "checking SupportByChr\n",
      "checking posByChr\n",
      "checking MapBC\n",
      "checking chrPloidies\n",
      "checking initialPolByChr\n",
      "Now checking non-list attributes\n",
      "Now checking float attributes\n",
      "now checking individual exclusions\n",
      "now checking site exclusions\n",
      "now checking contigMatrix attribute\n",
      "All tests passed!\n"
     ]
    }
   ],
   "source": [
    "tests.compare_DiemTypes(dContigTest,dContigSolution)"
   ]
  },
  {
   "cell_type": "code",
   "execution_count": null,
   "id": "88b44375",
   "metadata": {},
   "outputs": [],
   "source": []
  },
  {
   "cell_type": "code",
   "execution_count": null,
   "id": "b411ba79",
   "metadata": {},
   "outputs": [],
   "source": []
  },
  {
   "cell_type": "markdown",
   "id": "ffdad807",
   "metadata": {},
   "source": [
    "# exporting contigs to bed file"
   ]
  },
  {
   "cell_type": "code",
   "execution_count": 53,
   "id": "9da58446",
   "metadata": {},
   "outputs": [
    {
     "name": "stdout",
     "output_type": "stream",
     "text": [
      "BED files created in directory:  /home/derek/git/diemPy/example_data/contig_output\n"
     ]
    }
   ],
   "source": [
    "outputDir = '/home/derek/git/diemPy/example_data/contig_output'\n",
    "dContigSolution.intervals_to_bed(outputDir)"
   ]
  },
  {
   "cell_type": "code",
   "execution_count": 147,
   "id": "d075e933",
   "metadata": {},
   "outputs": [],
   "source": [
    "from pympler import asizeof"
   ]
  },
  {
   "cell_type": "code",
   "execution_count": null,
   "id": "f04fd1cf",
   "metadata": {},
   "outputs": [
    {
     "name": "stdout",
     "output_type": "stream",
     "text": [
      "32.84649658203125\n",
      "7.3505859375\n"
     ]
    }
   ],
   "source": [
    "dIn = new_import_raw_test_data()"
   ]
  },
  {
   "cell_type": "code",
   "execution_count": null,
   "id": "012b76e9",
   "metadata": {},
   "outputs": [
    {
     "name": "stdout",
     "output_type": "stream",
     "text": [
      "convert state matrix to Marray\n",
      "initializing test polarity\n",
      "initializing test polarity\n",
      "running EM algorithm on a single core using diem_linear\n",
      "starting\n",
      " num individuals in MBC is  14\n",
      "running EM algorithm on a single core using diem_linear\n",
      "starting\n",
      " num individuals in MBC is  14\n",
      "iteration  0   num 0 polarity =  453158   num 1 polarity =  453157\n",
      "iteration  0   num 0 polarity =  453158   num 1 polarity =  453157\n",
      "time for iteration in seconds:  4.898879766464233\n",
      "iteration  1   num 0 polarity =  585141   num 1 polarity =  321174\n",
      "time for iteration in seconds:  4.898879766464233\n",
      "iteration  1   num 0 polarity =  585141   num 1 polarity =  321174\n",
      "time for iteration in seconds:  4.345672845840454\n",
      "iteration  2   num 0 polarity =  628702   num 1 polarity =  277613\n",
      "time for iteration in seconds:  4.345672845840454\n",
      "iteration  2   num 0 polarity =  628702   num 1 polarity =  277613\n",
      "time for iteration in seconds:  4.299201965332031\n",
      "iteration  3   num 0 polarity =  630008   num 1 polarity =  276307\n",
      "time for iteration in seconds:  4.299201965332031\n",
      "iteration  3   num 0 polarity =  630008   num 1 polarity =  276307\n",
      "time for iteration in seconds:  4.343245029449463\n",
      "iteration  4   num 0 polarity =  630170   num 1 polarity =  276145\n",
      "time for iteration in seconds:  4.343245029449463\n",
      "iteration  4   num 0 polarity =  630170   num 1 polarity =  276145\n",
      "time for iteration in seconds:  4.467029333114624\n",
      "time for iteration in seconds:  4.467029333114624\n",
      "iteration  5   num 0 polarity =  630196   num 1 polarity =  276119\n",
      "iteration  5   num 0 polarity =  630196   num 1 polarity =  276119\n",
      "time for iteration in seconds:  4.574499130249023\n",
      "iteration  6   num 0 polarity =  630193   num 1 polarity =  276122\n",
      "time for iteration in seconds:  4.574499130249023\n",
      "iteration  6   num 0 polarity =  630193   num 1 polarity =  276122\n",
      "polarity found\n",
      "time for iteration in seconds:  4.465496063232422\n",
      "polarity found\n",
      "updating polarizations, DIs, Supports, initialPolarity,and state matrices\n",
      "polarity found\n",
      "time for iteration in seconds:  4.465496063232422\n",
      "polarity found\n",
      "updating polarizations, DIs, Supports, initialPolarity,and state matrices\n"
     ]
    },
    {
     "data": {
      "text/plain": [
       "<diem.diemtype.DiemType at 0x76b25ab9f680>"
      ]
     },
     "execution_count": 149,
     "metadata": {},
     "output_type": "execute_result"
    }
   ],
   "source": [
    "dPol = dIn.polarize(boolTestData=True,ncores=1)"
   ]
  },
  {
   "cell_type": "code",
   "execution_count": 150,
   "id": "a1d03a2c",
   "metadata": {},
   "outputs": [
    {
     "name": "stdout",
     "output_type": "stream",
     "text": [
      "Before polarization:\n",
      "  Base is None: True\n",
      "  Contiguous: True\n",
      "  Memory size: 7.3505859375 MB\n",
      "\n",
      "After polarization:\n",
      "  Base is None: True\n",
      "  Contiguous: True\n",
      "  Memory size: 7.3505859375 MB\n"
     ]
    }
   ],
   "source": [
    "# Check if our memory fix worked\n",
    "print(\"Before polarization:\")\n",
    "print(\"  Base is None:\", dIn.DMBC[0].base is None)\n",
    "print(\"  Contiguous:\", dIn.DMBC[0].flags.c_contiguous)\n",
    "print(\"  Memory size:\", asizeof.asizeof(dIn.DMBC[0])/1024/1024, \"MB\")\n",
    "\n",
    "print(\"\\nAfter polarization:\")\n",
    "print(\"  Base is None:\", dPol.DMBC[0].base is None)\n",
    "print(\"  Contiguous:\", dPol.DMBC[0].flags.c_contiguous) \n",
    "print(\"  Memory size:\", asizeof.asizeof(dPol.DMBC[0])/1024/1024, \"MB\")"
   ]
  },
  {
   "cell_type": "code",
   "execution_count": 151,
   "id": "d9c94609",
   "metadata": {},
   "outputs": [
    {
     "name": "stdout",
     "output_type": "stream",
     "text": [
      "contig matrix created and stored in self.contigMatrix\n"
     ]
    }
   ],
   "source": [
    "dPol.create_contig_matrix()"
   ]
  },
  {
   "cell_type": "code",
   "execution_count": 152,
   "id": "ea27621b",
   "metadata": {},
   "outputs": [
    {
     "name": "stdout",
     "output_type": "stream",
     "text": [
      "41.49010467529297\n"
     ]
    }
   ],
   "source": [
    "size = asizeof.asizeof(dPol)\n",
    "print(size/1024/1024)"
   ]
  },
  {
   "cell_type": "markdown",
   "id": "a76b70ed",
   "metadata": {},
   "source": [
    "# optimize run_em_linear with respect to mem usage"
   ]
  },
  {
   "cell_type": "code",
   "execution_count": 158,
   "id": "4a1beb2f",
   "metadata": {},
   "outputs": [],
   "source": [
    "dIn = new_import_raw_test_data()"
   ]
  },
  {
   "cell_type": "markdown",
   "id": "f9b4ba2d",
   "metadata": {},
   "source": [
    "Let's make sure it runs okay -- and it does"
   ]
  },
  {
   "cell_type": "code",
   "execution_count": 159,
   "id": "b28b6391",
   "metadata": {},
   "outputs": [
    {
     "name": "stdout",
     "output_type": "stream",
     "text": [
      "convert state matrix to Marray\n",
      "initializing test polarity\n",
      "running EM algorithm on a single core using diem_linear\n",
      "testing mem use\n",
      "starting\n",
      " num individuals in MBC is  14\n",
      "iteration  0   num 0 polarity =  453158   num 1 polarity =  453157\n",
      "time for iteration in seconds:  5.276999235153198\n",
      "iteration  1   num 0 polarity =  585141   num 1 polarity =  321174\n",
      "time for iteration in seconds:  4.991698503494263\n",
      "iteration  2   num 0 polarity =  628702   num 1 polarity =  277613\n",
      "time for iteration in seconds:  4.4837071895599365\n",
      "iteration  3   num 0 polarity =  630008   num 1 polarity =  276307\n",
      "time for iteration in seconds:  4.469743251800537\n",
      "iteration  4   num 0 polarity =  630170   num 1 polarity =  276145\n",
      "time for iteration in seconds:  4.380636930465698\n",
      "iteration  5   num 0 polarity =  630196   num 1 polarity =  276119\n",
      "time for iteration in seconds:  4.362731218338013\n",
      "iteration  6   num 0 polarity =  630193   num 1 polarity =  276122\n",
      "polarity found\n",
      "time for iteration in seconds:  4.417944431304932\n",
      "polarity found\n",
      "updating polarizations, DIs, Supports, initialPolarity,and state matrices\n"
     ]
    }
   ],
   "source": [
    "dPol2 = dIn.polarize(boolTestData=True,ncores=1)"
   ]
  },
  {
   "cell_type": "markdown",
   "id": "8b98958a",
   "metadata": {},
   "source": [
    "We initialize the MBC and PolBC directly here to directly call the em algorithm functions run_em_linear and run_em_parallel"
   ]
  },
  {
   "cell_type": "code",
   "execution_count": 160,
   "id": "9954d688",
   "metadata": {},
   "outputs": [],
   "source": [
    "initMBC = [pol.stateMatrix_to_MArray(x) for x in dIn.DMBC]\n",
    "initPolBC = []\n",
    "for idx,M in enumerate(initMBC):\n",
    "    thisPol,thisM = pol.initialize_test_polarity(M)\n",
    "    initMBC[idx] = thisM\n",
    "    initPolBC.append(thisPol)"
   ]
  },
  {
   "cell_type": "markdown",
   "id": "2bc67fa7",
   "metadata": {},
   "source": [
    "This is a function to trace the memory useage of a function, courtesy of an LLM. "
   ]
  },
  {
   "cell_type": "code",
   "execution_count": null,
   "id": "1e5c68b4",
   "metadata": {},
   "outputs": [],
   "source": [
    "import tracemalloc\n",
    "\n",
    "def profile_memory_usage(func, *args, **kwargs):\n",
    "    \"\"\"Profile memory usage of a function call\"\"\"\n",
    "    tracemalloc.start()\n",
    "    \n",
    "    result = func(*args, **kwargs)\n",
    "    \n",
    "    current, peak = tracemalloc.get_traced_memory()\n",
    "    tracemalloc.stop()\n",
    "    \n",
    "    print(f\"Current memory: {current / 1024 / 1024:.2f} MB\")\n",
    "    print(f\"Peak memory: {peak / 1024 / 1024:.2f} MB\")\n",
    "    \n",
    "    return result"
   ]
  },
  {
   "cell_type": "markdown",
   "id": "c4a99497",
   "metadata": {},
   "source": [
    "In the following three cells, show that Before and after changes, no mem use difference, and the newer version (only slight changes) produces correct results.  with 3 itterations, got:\n",
    "\n",
    "Current memory: 63.11 MB\n",
    "Peak memory: 136.68 MB\n"
   ]
  },
  {
   "cell_type": "code",
   "execution_count": null,
   "id": "98d105b0",
   "metadata": {},
   "outputs": [
    {
     "name": "stdout",
     "output_type": "stream",
     "text": [
      "testing mem use\n",
      "starting\n",
      " num individuals in MBC is  14\n",
      "iteration  0   num 0 polarity =  453158   num 1 polarity =  453157\n",
      "time for iteration in seconds:  51.090744733810425\n",
      "iteration  1   num 0 polarity =  585141   num 1 polarity =  321174\n",
      "time for iteration in seconds:  43.83930826187134\n",
      "iteration  2   num 0 polarity =  628702   num 1 polarity =  277613\n",
      "time for iteration in seconds:  43.59701180458069\n",
      "Current memory: 63.11 MB\n",
      "Peak memory: 136.68 MB\n"
     ]
    }
   ],
   "source": [
    "res = profile_memory_usage(pol.run_em_linear, initMBC, initPolBC, dIn.chrPloidies, maxItt=3)"
   ]
  },
  {
   "cell_type": "code",
   "execution_count": null,
   "id": "488d114b",
   "metadata": {},
   "outputs": [
    {
     "name": "stdout",
     "output_type": "stream",
     "text": [
      "testing mem use\n",
      "starting\n",
      " num individuals in MBC is  14\n",
      "iteration  0   num 0 polarity =  453158   num 1 polarity =  453157\n",
      "time for iteration in seconds:  46.20457100868225\n",
      "iteration  1   num 0 polarity =  585141   num 1 polarity =  321174\n",
      "time for iteration in seconds:  42.92189884185791\n",
      "iteration  2   num 0 polarity =  628702   num 1 polarity =  277613\n",
      "time for iteration in seconds:  42.90388822555542\n",
      "Current memory: 63.11 MB\n",
      "Peak memory: 136.68 MB\n"
     ]
    }
   ],
   "source": [
    "\n",
    "res = profile_memory_usage(pol.run_em_linear, initMBC, initPolBC, dIn.chrPloidies, maxItt=3)"
   ]
  },
  {
   "cell_type": "code",
   "execution_count": 167,
   "id": "542b959c",
   "metadata": {},
   "outputs": [
    {
     "name": "stdout",
     "output_type": "stream",
     "text": [
      "testing mem use\n",
      "starting\n",
      " num individuals in MBC is  14\n",
      "iteration  0   num 0 polarity =  453158   num 1 polarity =  453157\n",
      "time for iteration in seconds:  5.86578369140625\n",
      "iteration  1   num 0 polarity =  585141   num 1 polarity =  321174\n",
      "time for iteration in seconds:  4.525537729263306\n",
      "iteration  2   num 0 polarity =  628702   num 1 polarity =  277613\n",
      "time for iteration in seconds:  4.573274850845337\n",
      "iteration  3   num 0 polarity =  630008   num 1 polarity =  276307\n",
      "time for iteration in seconds:  4.727430105209351\n",
      "iteration  4   num 0 polarity =  630170   num 1 polarity =  276145\n",
      "time for iteration in seconds:  4.358287811279297\n",
      "iteration  5   num 0 polarity =  630196   num 1 polarity =  276119\n",
      "time for iteration in seconds:  4.9412431716918945\n",
      "iteration  6   num 0 polarity =  630193   num 1 polarity =  276122\n",
      "polarity found\n",
      "time for iteration in seconds:  5.292585849761963\n",
      "polarity found\n"
     ]
    }
   ],
   "source": [
    "restTemp = pol.run_em_linear(initMBC, initPolBC, dIn.chrPloidies, maxItt=10)"
   ]
  },
  {
   "cell_type": "markdown",
   "id": "e13adef1",
   "metadata": {},
   "source": [
    "Similarly, for run_em_parallel, before and after changes yields no difference in memory use. The results are the same. But...\n",
    "\n",
    "**parallel version is more memory efficient! Check why**\n",
    "\n",
    "current memory: 63.12 MB\n",
    "peak memory: 84.76"
   ]
  },
  {
   "cell_type": "code",
   "execution_count": null,
   "id": "b2ea63eb",
   "metadata": {},
   "outputs": [
    {
     "name": "stdout",
     "output_type": "stream",
     "text": [
      "starting\n",
      "using  8  CPUs\n",
      "iteration  0   num 0 polarity =  453158   num 1 polarity =  453157\n",
      "iteration  0   num 0 polarity =  453158   num 1 polarity =  453157\n",
      "time to flip:  8.30934762954712\n",
      "iteration  1   num 0 polarity =  585141   num 1 polarity =  321174\n",
      "time to flip:  8.30934762954712\n",
      "iteration  1   num 0 polarity =  585141   num 1 polarity =  321174\n",
      "time to flip:  7.275923490524292\n",
      "iteration  2   num 0 polarity =  628702   num 1 polarity =  277613\n",
      "time to flip:  7.275923490524292\n",
      "iteration  2   num 0 polarity =  628702   num 1 polarity =  277613\n",
      "time to flip:  6.998779058456421\n",
      "Current memory: 63.12 MB\n",
      "Peak memory: 84.76 MB\n",
      "time to flip:  6.998779058456421\n",
      "Current memory: 63.12 MB\n",
      "Peak memory: 84.76 MB\n"
     ]
    }
   ],
   "source": [
    "res = profile_memory_usage(pol.run_em_parallel, initMBC, initPolBC, dIn.chrPloidies, maxItt=3)"
   ]
  },
  {
   "cell_type": "code",
   "execution_count": 170,
   "id": "2807171d",
   "metadata": {},
   "outputs": [
    {
     "name": "stdout",
     "output_type": "stream",
     "text": [
      "starting\n",
      "using  8  CPUs\n",
      "iteration  0   num 0 polarity =  453158   num 1 polarity =  453157\n",
      "iteration  0   num 0 polarity =  453158   num 1 polarity =  453157\n",
      "time to flip:  7.466629981994629\n",
      "iteration  1   num 0 polarity =  585141   num 1 polarity =  321174\n",
      "time to flip:  7.466629981994629\n",
      "iteration  1   num 0 polarity =  585141   num 1 polarity =  321174\n",
      "time to flip:  6.688763856887817\n",
      "iteration  2   num 0 polarity =  628702   num 1 polarity =  277613\n",
      "time to flip:  6.688763856887817\n",
      "iteration  2   num 0 polarity =  628702   num 1 polarity =  277613\n",
      "time to flip:  6.772693395614624\n",
      "Current memory: 63.12 MB\n",
      "Peak memory: 84.76 MB\n",
      "time to flip:  6.772693395614624\n",
      "Current memory: 63.12 MB\n",
      "Peak memory: 84.76 MB\n"
     ]
    }
   ],
   "source": [
    "res = profile_memory_usage(pol.run_em_parallel, initMBC, initPolBC, dIn.chrPloidies, maxItt=3)"
   ]
  },
  {
   "cell_type": "code",
   "execution_count": 171,
   "id": "96619321",
   "metadata": {},
   "outputs": [
    {
     "name": "stdout",
     "output_type": "stream",
     "text": [
      "starting\n",
      "using  8  CPUs\n",
      "iteration  0   num 0 polarity =  453158   num 1 polarity =  453157\n",
      "iteration  0   num 0 polarity =  453158   num 1 polarity =  453157\n",
      "time to flip:  2.1600990295410156\n",
      "iteration  1   num 0 polarity =  585141   num 1 polarity =  321174\n",
      "time to flip:  2.1600990295410156\n",
      "iteration  1   num 0 polarity =  585141   num 1 polarity =  321174\n",
      "time to flip:  2.5754144191741943\n",
      "iteration  2   num 0 polarity =  628702   num 1 polarity =  277613\n",
      "time to flip:  2.5754144191741943\n",
      "iteration  2   num 0 polarity =  628702   num 1 polarity =  277613\n",
      "time to flip:  1.9263544082641602\n",
      "iteration  3   num 0 polarity =  630008   num 1 polarity =  276307\n",
      "time to flip:  1.9263544082641602\n",
      "iteration  3   num 0 polarity =  630008   num 1 polarity =  276307\n",
      "time to flip:  1.8902885913848877\n",
      "iteration  4   num 0 polarity =  630170   num 1 polarity =  276145\n",
      "time to flip:  1.8902885913848877\n",
      "iteration  4   num 0 polarity =  630170   num 1 polarity =  276145\n",
      "time to flip:  1.8116061687469482\n",
      "iteration  5   num 0 polarity =  630196   num 1 polarity =  276119\n",
      "time to flip:  1.8116061687469482\n",
      "iteration  5   num 0 polarity =  630196   num 1 polarity =  276119\n",
      "time to flip:  1.8421506881713867\n",
      "iteration  6   num 0 polarity =  630193   num 1 polarity =  276122\n",
      "time to flip:  1.8421506881713867\n",
      "iteration  6   num 0 polarity =  630193   num 1 polarity =  276122\n",
      "time to flip:  1.865558385848999\n",
      "polarity found\n",
      "polarity found\n",
      "time to flip:  1.865558385848999\n",
      "polarity found\n",
      "polarity found\n"
     ]
    }
   ],
   "source": [
    "restTemp = pol.run_em_parallel(initMBC, initPolBC, dIn.chrPloidies, maxItt=10)"
   ]
  },
  {
   "cell_type": "code",
   "execution_count": 172,
   "id": "d0932f5e",
   "metadata": {},
   "outputs": [
    {
     "data": {
      "text/plain": [
       "906315"
      ]
     },
     "execution_count": 172,
     "metadata": {},
     "output_type": "execute_result"
    }
   ],
   "source": [
    "sum([len(x) for x in initMBC])"
   ]
  },
  {
   "cell_type": "code",
   "execution_count": null,
   "id": "96205e64",
   "metadata": {},
   "outputs": [],
   "source": []
  }
 ],
 "metadata": {
  "kernelspec": {
   "display_name": "diemdev",
   "language": "python",
   "name": "python3"
  },
  "language_info": {
   "codemirror_mode": {
    "name": "ipython",
    "version": 3
   },
   "file_extension": ".py",
   "mimetype": "text/x-python",
   "name": "python",
   "nbconvert_exporter": "python",
   "pygments_lexer": "ipython3",
   "version": "3.13.5"
  }
 },
 "nbformat": 4,
 "nbformat_minor": 5
}
